{
 "cells": [
  {
   "cell_type": "markdown",
   "metadata": {
    "_uuid": "e41ea25bec5928203cec544d0413fecd4b4e5555"
   },
   "source": [
    "\n",
    "\n",
    "\n",
    "\n",
    "\n",
    "\n",
    "\n",
    "\n",
    "\n",
    "\n",
    "\n",
    "\n",
    "\n",
    "\n",
    "\n",
    "\n",
    "\n",
    "\n",
    "\n",
    "\n",
    "\n",
    "\n",
    "\n",
    "\n",
    "\n",
    "\n",
    "\n",
    "\n",
    "\n",
    "\n",
    "\n",
    "\n",
    "\n",
    "\n",
    "\n",
    "\n",
    "\n",
    "\n",
    "\n",
    "\n",
    "\n",
    "\n",
    "\n",
    "\n",
    "\n",
    "\n",
    "\n",
    "\n",
    "\n",
    "\n",
    "\n",
    "\n",
    "\n",
    "\n",
    "\n",
    "\n",
    "\n",
    "\n",
    "\n",
    "\n",
    "\n",
    "\n",
    "\n",
    "\n",
    "\n",
    "\n",
    "\n",
    "\n",
    "\n",
    "\n",
    "\n",
    "## I. Importing essential libraries"
   ]
  },
  {
   "cell_type": "code",
   "execution_count": 118,
   "metadata": {
    "_uuid": "f571f7e57c828d45fe55f6136fe8c2e796f74d4e"
   },
   "outputs": [
    {
     "name": "stdout",
     "output_type": "stream",
     "text": [
      "['.graph2.png', '.ipynb_checkpoints', 'Annual.png', 'barplot(day).png', 'barplot(humidity).png', 'barplot(month).png', 'barplot(temp).png', 'barplot(year).png', 'comparison.png', 'comparison1.png', 'Daily Rainfall dataset Chittagong.csv', 'dailyhist.png', 'district wise rainfall normal.csv', 'district222.ipynb', 'final.pdf', 'final_dataset.csv', 'frequency.png', 'graph1.png', 'histogram.png', 'img.jpg', 'rain fall prediction', 'rain fall prediction district wise rainfall normal .ipynb', 'rain fall prediction rainfall in india 1901-2015.csv.ipynb', 'rainfall in india 1901-2015.csv', 'rain_fall_prediction copy.ipynb', 'rain_fall_prediction.ipynb', 'Range.png', 'scatter.png', 'SLP.png', 'STATEGRAPH11.ipynb', 'svr.png']\n"
     ]
    }
   ],
   "source": [
    "#!pip install seaborn\n",
    "import numpy as np\n",
    "import pandas as pd\n",
    "import matplotlib.pyplot as plt\n",
    "import seaborn as sns\n",
    "\n",
    "\n",
    "%matplotlib inline\n",
    "\n",
    "import os\n",
    "print(os.listdir())\n",
    "\n",
    "import warnings\n",
    "warnings.filterwarnings('ignore')"
   ]
  },
  {
   "cell_type": "markdown",
   "metadata": {
    "_uuid": "44e71221837f6fa60edc2c83b7492ddb019cc1cd"
   },
   "source": [
    "## II. Importing and understanding our dataset "
   ]
  },
  {
   "cell_type": "code",
   "execution_count": 119,
   "metadata": {
    "_uuid": "2a1a1dae64ae3c934849b2b918bc7d68cd59e3f6"
   },
   "outputs": [],
   "source": [
    "dataset = pd.read_csv(\"Daily Rainfall dataset Chittagong.csv\")"
   ]
  },
  {
   "cell_type": "markdown",
   "metadata": {
    "_uuid": "481fa1d160a3256ef2470535bfb0574820fbaabd"
   },
   "source": [
    "#### Verifying it as a 'dataframe' object in pandas"
   ]
  },
  {
   "cell_type": "code",
   "execution_count": 120,
   "metadata": {
    "_uuid": "86353d54a331dbf55a63874402cf13e2a72c3750"
   },
   "outputs": [
    {
     "data": {
      "text/plain": [
       "pandas.core.frame.DataFrame"
      ]
     },
     "execution_count": 120,
     "metadata": {},
     "output_type": "execute_result"
    }
   ],
   "source": [
    "type(dataset)"
   ]
  },
  {
   "cell_type": "markdown",
   "metadata": {
    "_uuid": "44649a50ce58d2e10a032f7d0e7ecf435e932481"
   },
   "source": [
    "#### Shape of dataset"
   ]
  },
  {
   "cell_type": "code",
   "execution_count": 121,
   "metadata": {
    "_uuid": "0a2396061d262bee451e61dd51be84d0bd1ac9d0"
   },
   "outputs": [
    {
     "data": {
      "text/plain": [
       "(2191, 20)"
      ]
     },
     "execution_count": 121,
     "metadata": {},
     "output_type": "execute_result"
    }
   ],
   "source": [
    "dataset.shape"
   ]
  },
  {
   "cell_type": "markdown",
   "metadata": {
    "_uuid": "3e1de0c39fc28f086a5e8377cc5fbdbf91d377b3"
   },
   "source": [
    "#### Printing out a few columns"
   ]
  },
  {
   "cell_type": "code",
   "execution_count": 122,
   "metadata": {
    "_uuid": "87ebcc578e5959fe9a9c9a538c73122183454459"
   },
   "outputs": [
    {
     "data": {
      "text/html": [
       "<div>\n",
       "<style scoped>\n",
       "    .dataframe tbody tr th:only-of-type {\n",
       "        vertical-align: middle;\n",
       "    }\n",
       "\n",
       "    .dataframe tbody tr th {\n",
       "        vertical-align: top;\n",
       "    }\n",
       "\n",
       "    .dataframe thead th {\n",
       "        text-align: right;\n",
       "    }\n",
       "</style>\n",
       "<table border=\"1\" class=\"dataframe\">\n",
       "  <thead>\n",
       "    <tr style=\"text-align: right;\">\n",
       "      <th></th>\n",
       "      <th>year</th>\n",
       "      <th>month</th>\n",
       "      <th>day</th>\n",
       "      <th>tempHigh</th>\n",
       "      <th>tempAvg</th>\n",
       "      <th>tempLow</th>\n",
       "      <th>DPHigh</th>\n",
       "      <th>DPAvg</th>\n",
       "      <th>DPLow</th>\n",
       "      <th>humidityHigh</th>\n",
       "      <th>humidityAvg</th>\n",
       "      <th>humidityLow</th>\n",
       "      <th>SLPHigh</th>\n",
       "      <th>SLPAvg</th>\n",
       "      <th>SLPLow</th>\n",
       "      <th>visibilityHigh</th>\n",
       "      <th>visibilityAvg</th>\n",
       "      <th>visibilityLow</th>\n",
       "      <th>windAvg</th>\n",
       "      <th>Rainfall</th>\n",
       "    </tr>\n",
       "  </thead>\n",
       "  <tbody>\n",
       "    <tr>\n",
       "      <th>0</th>\n",
       "      <td>2012</td>\n",
       "      <td>1</td>\n",
       "      <td>1</td>\n",
       "      <td>28</td>\n",
       "      <td>23</td>\n",
       "      <td>19</td>\n",
       "      <td>18</td>\n",
       "      <td>14</td>\n",
       "      <td>10</td>\n",
       "      <td>88</td>\n",
       "      <td>57</td>\n",
       "      <td>34</td>\n",
       "      <td>1015</td>\n",
       "      <td>1012</td>\n",
       "      <td>1010</td>\n",
       "      <td>6</td>\n",
       "      <td>5</td>\n",
       "      <td>4</td>\n",
       "      <td>5</td>\n",
       "      <td>0.0</td>\n",
       "    </tr>\n",
       "    <tr>\n",
       "      <th>1</th>\n",
       "      <td>2012</td>\n",
       "      <td>1</td>\n",
       "      <td>2</td>\n",
       "      <td>26</td>\n",
       "      <td>22</td>\n",
       "      <td>18</td>\n",
       "      <td>17</td>\n",
       "      <td>15</td>\n",
       "      <td>13</td>\n",
       "      <td>88</td>\n",
       "      <td>65</td>\n",
       "      <td>47</td>\n",
       "      <td>1015</td>\n",
       "      <td>1013</td>\n",
       "      <td>1012</td>\n",
       "      <td>4</td>\n",
       "      <td>3</td>\n",
       "      <td>2</td>\n",
       "      <td>2</td>\n",
       "      <td>0.0</td>\n",
       "    </tr>\n",
       "    <tr>\n",
       "      <th>2</th>\n",
       "      <td>2012</td>\n",
       "      <td>1</td>\n",
       "      <td>3</td>\n",
       "      <td>27</td>\n",
       "      <td>22</td>\n",
       "      <td>17</td>\n",
       "      <td>20</td>\n",
       "      <td>17</td>\n",
       "      <td>16</td>\n",
       "      <td>94</td>\n",
       "      <td>71</td>\n",
       "      <td>54</td>\n",
       "      <td>1014</td>\n",
       "      <td>1012</td>\n",
       "      <td>1010</td>\n",
       "      <td>5</td>\n",
       "      <td>4</td>\n",
       "      <td>4</td>\n",
       "      <td>6</td>\n",
       "      <td>0.0</td>\n",
       "    </tr>\n",
       "    <tr>\n",
       "      <th>3</th>\n",
       "      <td>2012</td>\n",
       "      <td>1</td>\n",
       "      <td>4</td>\n",
       "      <td>26</td>\n",
       "      <td>23</td>\n",
       "      <td>20</td>\n",
       "      <td>18</td>\n",
       "      <td>17</td>\n",
       "      <td>15</td>\n",
       "      <td>83</td>\n",
       "      <td>66</td>\n",
       "      <td>51</td>\n",
       "      <td>1015</td>\n",
       "      <td>1013</td>\n",
       "      <td>1010</td>\n",
       "      <td>4</td>\n",
       "      <td>3</td>\n",
       "      <td>1</td>\n",
       "      <td>3</td>\n",
       "      <td>0.0</td>\n",
       "    </tr>\n",
       "    <tr>\n",
       "      <th>4</th>\n",
       "      <td>2012</td>\n",
       "      <td>1</td>\n",
       "      <td>5</td>\n",
       "      <td>26</td>\n",
       "      <td>23</td>\n",
       "      <td>19</td>\n",
       "      <td>18</td>\n",
       "      <td>17</td>\n",
       "      <td>16</td>\n",
       "      <td>88</td>\n",
       "      <td>71</td>\n",
       "      <td>57</td>\n",
       "      <td>1016</td>\n",
       "      <td>1014</td>\n",
       "      <td>1012</td>\n",
       "      <td>4</td>\n",
       "      <td>3</td>\n",
       "      <td>1</td>\n",
       "      <td>3</td>\n",
       "      <td>0.0</td>\n",
       "    </tr>\n",
       "  </tbody>\n",
       "</table>\n",
       "</div>"
      ],
      "text/plain": [
       "   year  month  day  tempHigh  tempAvg  tempLow  DPHigh  DPAvg  DPLow  \\\n",
       "0  2012      1    1        28       23       19      18     14     10   \n",
       "1  2012      1    2        26       22       18      17     15     13   \n",
       "2  2012      1    3        27       22       17      20     17     16   \n",
       "3  2012      1    4        26       23       20      18     17     15   \n",
       "4  2012      1    5        26       23       19      18     17     16   \n",
       "\n",
       "   humidityHigh  humidityAvg  humidityLow  SLPHigh  SLPAvg  SLPLow  \\\n",
       "0            88           57           34     1015    1012    1010   \n",
       "1            88           65           47     1015    1013    1012   \n",
       "2            94           71           54     1014    1012    1010   \n",
       "3            83           66           51     1015    1013    1010   \n",
       "4            88           71           57     1016    1014    1012   \n",
       "\n",
       "   visibilityHigh  visibilityAvg  visibilityLow  windAvg  Rainfall  \n",
       "0               6              5              4        5       0.0  \n",
       "1               4              3              2        2       0.0  \n",
       "2               5              4              4        6       0.0  \n",
       "3               4              3              1        3       0.0  \n",
       "4               4              3              1        3       0.0  "
      ]
     },
     "execution_count": 122,
     "metadata": {},
     "output_type": "execute_result"
    }
   ],
   "source": [
    "dataset.head(5)"
   ]
  },
  {
   "cell_type": "code",
   "execution_count": 123,
   "metadata": {
    "_uuid": "5132eb43114bf99d5f857f459d0c9d2faffc9644"
   },
   "outputs": [
    {
     "data": {
      "text/html": [
       "<div>\n",
       "<style scoped>\n",
       "    .dataframe tbody tr th:only-of-type {\n",
       "        vertical-align: middle;\n",
       "    }\n",
       "\n",
       "    .dataframe tbody tr th {\n",
       "        vertical-align: top;\n",
       "    }\n",
       "\n",
       "    .dataframe thead th {\n",
       "        text-align: right;\n",
       "    }\n",
       "</style>\n",
       "<table border=\"1\" class=\"dataframe\">\n",
       "  <thead>\n",
       "    <tr style=\"text-align: right;\">\n",
       "      <th></th>\n",
       "      <th>year</th>\n",
       "      <th>month</th>\n",
       "      <th>day</th>\n",
       "      <th>tempHigh</th>\n",
       "      <th>tempAvg</th>\n",
       "      <th>tempLow</th>\n",
       "      <th>DPHigh</th>\n",
       "      <th>DPAvg</th>\n",
       "      <th>DPLow</th>\n",
       "      <th>humidityHigh</th>\n",
       "      <th>humidityAvg</th>\n",
       "      <th>humidityLow</th>\n",
       "      <th>SLPHigh</th>\n",
       "      <th>SLPAvg</th>\n",
       "      <th>SLPLow</th>\n",
       "      <th>visibilityHigh</th>\n",
       "      <th>visibilityAvg</th>\n",
       "      <th>visibilityLow</th>\n",
       "      <th>windAvg</th>\n",
       "      <th>Rainfall</th>\n",
       "    </tr>\n",
       "  </thead>\n",
       "  <tbody>\n",
       "    <tr>\n",
       "      <th>584</th>\n",
       "      <td>2013</td>\n",
       "      <td>8</td>\n",
       "      <td>8</td>\n",
       "      <td>31</td>\n",
       "      <td>29</td>\n",
       "      <td>27</td>\n",
       "      <td>27</td>\n",
       "      <td>26</td>\n",
       "      <td>25</td>\n",
       "      <td>89</td>\n",
       "      <td>81</td>\n",
       "      <td>71</td>\n",
       "      <td>1006</td>\n",
       "      <td>1004</td>\n",
       "      <td>1002</td>\n",
       "      <td>5</td>\n",
       "      <td>5</td>\n",
       "      <td>5</td>\n",
       "      <td>10</td>\n",
       "      <td>0.00</td>\n",
       "    </tr>\n",
       "    <tr>\n",
       "      <th>790</th>\n",
       "      <td>2014</td>\n",
       "      <td>3</td>\n",
       "      <td>2</td>\n",
       "      <td>32</td>\n",
       "      <td>24</td>\n",
       "      <td>18</td>\n",
       "      <td>18</td>\n",
       "      <td>15</td>\n",
       "      <td>12</td>\n",
       "      <td>83</td>\n",
       "      <td>48</td>\n",
       "      <td>24</td>\n",
       "      <td>1014</td>\n",
       "      <td>1012</td>\n",
       "      <td>1010</td>\n",
       "      <td>5</td>\n",
       "      <td>5</td>\n",
       "      <td>3</td>\n",
       "      <td>16</td>\n",
       "      <td>0.00</td>\n",
       "    </tr>\n",
       "    <tr>\n",
       "      <th>238</th>\n",
       "      <td>2012</td>\n",
       "      <td>8</td>\n",
       "      <td>27</td>\n",
       "      <td>32</td>\n",
       "      <td>29</td>\n",
       "      <td>26</td>\n",
       "      <td>27</td>\n",
       "      <td>26</td>\n",
       "      <td>22</td>\n",
       "      <td>100</td>\n",
       "      <td>83</td>\n",
       "      <td>63</td>\n",
       "      <td>1005</td>\n",
       "      <td>1003</td>\n",
       "      <td>1001</td>\n",
       "      <td>6</td>\n",
       "      <td>5</td>\n",
       "      <td>5</td>\n",
       "      <td>11</td>\n",
       "      <td>0.76</td>\n",
       "    </tr>\n",
       "    <tr>\n",
       "      <th>1600</th>\n",
       "      <td>2016</td>\n",
       "      <td>5</td>\n",
       "      <td>20</td>\n",
       "      <td>29</td>\n",
       "      <td>27</td>\n",
       "      <td>24</td>\n",
       "      <td>25</td>\n",
       "      <td>24</td>\n",
       "      <td>23</td>\n",
       "      <td>96</td>\n",
       "      <td>90</td>\n",
       "      <td>71</td>\n",
       "      <td>1006</td>\n",
       "      <td>1003</td>\n",
       "      <td>1001</td>\n",
       "      <td>5</td>\n",
       "      <td>4</td>\n",
       "      <td>3</td>\n",
       "      <td>13</td>\n",
       "      <td>2.03</td>\n",
       "    </tr>\n",
       "    <tr>\n",
       "      <th>1114</th>\n",
       "      <td>2015</td>\n",
       "      <td>1</td>\n",
       "      <td>20</td>\n",
       "      <td>23</td>\n",
       "      <td>18</td>\n",
       "      <td>14</td>\n",
       "      <td>17</td>\n",
       "      <td>15</td>\n",
       "      <td>14</td>\n",
       "      <td>94</td>\n",
       "      <td>79</td>\n",
       "      <td>60</td>\n",
       "      <td>1019</td>\n",
       "      <td>1017</td>\n",
       "      <td>1015</td>\n",
       "      <td>3</td>\n",
       "      <td>2</td>\n",
       "      <td>1</td>\n",
       "      <td>10</td>\n",
       "      <td>0.00</td>\n",
       "    </tr>\n",
       "  </tbody>\n",
       "</table>\n",
       "</div>"
      ],
      "text/plain": [
       "      year  month  day  tempHigh  tempAvg  tempLow  DPHigh  DPAvg  DPLow  \\\n",
       "584   2013      8    8        31       29       27      27     26     25   \n",
       "790   2014      3    2        32       24       18      18     15     12   \n",
       "238   2012      8   27        32       29       26      27     26     22   \n",
       "1600  2016      5   20        29       27       24      25     24     23   \n",
       "1114  2015      1   20        23       18       14      17     15     14   \n",
       "\n",
       "      humidityHigh  humidityAvg  humidityLow  SLPHigh  SLPAvg  SLPLow  \\\n",
       "584             89           81           71     1006    1004    1002   \n",
       "790             83           48           24     1014    1012    1010   \n",
       "238            100           83           63     1005    1003    1001   \n",
       "1600            96           90           71     1006    1003    1001   \n",
       "1114            94           79           60     1019    1017    1015   \n",
       "\n",
       "      visibilityHigh  visibilityAvg  visibilityLow  windAvg  Rainfall  \n",
       "584                5              5              5       10      0.00  \n",
       "790                5              5              3       16      0.00  \n",
       "238                6              5              5       11      0.76  \n",
       "1600               5              4              3       13      2.03  \n",
       "1114               3              2              1       10      0.00  "
      ]
     },
     "execution_count": 123,
     "metadata": {},
     "output_type": "execute_result"
    }
   ],
   "source": [
    "dataset.sample(5)"
   ]
  },
  {
   "cell_type": "markdown",
   "metadata": {
    "_uuid": "1113236bec2848d33c5bfe088ff0d03246b8b7ce"
   },
   "source": [
    "#### Description"
   ]
  },
  {
   "cell_type": "code",
   "execution_count": 124,
   "metadata": {
    "_uuid": "c31619815cb0dae5586985671fdc21110b39a821"
   },
   "outputs": [
    {
     "data": {
      "text/html": [
       "<div>\n",
       "<style scoped>\n",
       "    .dataframe tbody tr th:only-of-type {\n",
       "        vertical-align: middle;\n",
       "    }\n",
       "\n",
       "    .dataframe tbody tr th {\n",
       "        vertical-align: top;\n",
       "    }\n",
       "\n",
       "    .dataframe thead th {\n",
       "        text-align: right;\n",
       "    }\n",
       "</style>\n",
       "<table border=\"1\" class=\"dataframe\">\n",
       "  <thead>\n",
       "    <tr style=\"text-align: right;\">\n",
       "      <th></th>\n",
       "      <th>year</th>\n",
       "      <th>month</th>\n",
       "      <th>day</th>\n",
       "      <th>tempHigh</th>\n",
       "      <th>tempAvg</th>\n",
       "      <th>tempLow</th>\n",
       "      <th>DPHigh</th>\n",
       "      <th>DPAvg</th>\n",
       "      <th>DPLow</th>\n",
       "      <th>humidityHigh</th>\n",
       "      <th>humidityAvg</th>\n",
       "      <th>humidityLow</th>\n",
       "      <th>SLPHigh</th>\n",
       "      <th>SLPAvg</th>\n",
       "      <th>SLPLow</th>\n",
       "      <th>visibilityHigh</th>\n",
       "      <th>visibilityAvg</th>\n",
       "      <th>visibilityLow</th>\n",
       "      <th>windAvg</th>\n",
       "      <th>Rainfall</th>\n",
       "    </tr>\n",
       "  </thead>\n",
       "  <tbody>\n",
       "    <tr>\n",
       "      <th>count</th>\n",
       "      <td>2191.000000</td>\n",
       "      <td>2191.000000</td>\n",
       "      <td>2191.000000</td>\n",
       "      <td>2191.000000</td>\n",
       "      <td>2191.000000</td>\n",
       "      <td>2191.000000</td>\n",
       "      <td>2191.000000</td>\n",
       "      <td>2191.000000</td>\n",
       "      <td>2191.000000</td>\n",
       "      <td>2191.000000</td>\n",
       "      <td>2191.000000</td>\n",
       "      <td>2191.000000</td>\n",
       "      <td>2191.000000</td>\n",
       "      <td>2191.000000</td>\n",
       "      <td>2191.000000</td>\n",
       "      <td>2191.000000</td>\n",
       "      <td>2191.000000</td>\n",
       "      <td>2191.000000</td>\n",
       "      <td>2191.000000</td>\n",
       "      <td>2191.000000</td>\n",
       "    </tr>\n",
       "    <tr>\n",
       "      <th>mean</th>\n",
       "      <td>2014.500685</td>\n",
       "      <td>6.524418</td>\n",
       "      <td>15.726609</td>\n",
       "      <td>30.172980</td>\n",
       "      <td>26.296212</td>\n",
       "      <td>22.555454</td>\n",
       "      <td>23.656778</td>\n",
       "      <td>21.920128</td>\n",
       "      <td>19.727978</td>\n",
       "      <td>91.902784</td>\n",
       "      <td>74.968964</td>\n",
       "      <td>54.916933</td>\n",
       "      <td>1009.896851</td>\n",
       "      <td>1007.621634</td>\n",
       "      <td>1005.516203</td>\n",
       "      <td>5.339115</td>\n",
       "      <td>4.487905</td>\n",
       "      <td>2.960749</td>\n",
       "      <td>8.543587</td>\n",
       "      <td>2.853241</td>\n",
       "    </tr>\n",
       "    <tr>\n",
       "      <th>std</th>\n",
       "      <td>1.708126</td>\n",
       "      <td>3.448542</td>\n",
       "      <td>8.800821</td>\n",
       "      <td>2.926921</td>\n",
       "      <td>3.392764</td>\n",
       "      <td>4.288724</td>\n",
       "      <td>4.070043</td>\n",
       "      <td>4.705822</td>\n",
       "      <td>5.707636</td>\n",
       "      <td>5.798138</td>\n",
       "      <td>10.539248</td>\n",
       "      <td>16.924232</td>\n",
       "      <td>5.234182</td>\n",
       "      <td>4.941176</td>\n",
       "      <td>5.010271</td>\n",
       "      <td>2.019883</td>\n",
       "      <td>1.043228</td>\n",
       "      <td>1.507459</td>\n",
       "      <td>4.826184</td>\n",
       "      <td>10.062828</td>\n",
       "    </tr>\n",
       "    <tr>\n",
       "      <th>min</th>\n",
       "      <td>2012.000000</td>\n",
       "      <td>1.000000</td>\n",
       "      <td>1.000000</td>\n",
       "      <td>14.000000</td>\n",
       "      <td>13.000000</td>\n",
       "      <td>9.000000</td>\n",
       "      <td>10.000000</td>\n",
       "      <td>7.000000</td>\n",
       "      <td>0.000000</td>\n",
       "      <td>48.000000</td>\n",
       "      <td>33.000000</td>\n",
       "      <td>4.000000</td>\n",
       "      <td>996.000000</td>\n",
       "      <td>991.000000</td>\n",
       "      <td>978.000000</td>\n",
       "      <td>2.000000</td>\n",
       "      <td>1.000000</td>\n",
       "      <td>0.000000</td>\n",
       "      <td>0.000000</td>\n",
       "      <td>0.000000</td>\n",
       "    </tr>\n",
       "    <tr>\n",
       "      <th>25%</th>\n",
       "      <td>2013.000000</td>\n",
       "      <td>4.000000</td>\n",
       "      <td>8.000000</td>\n",
       "      <td>28.000000</td>\n",
       "      <td>24.000000</td>\n",
       "      <td>19.000000</td>\n",
       "      <td>21.000000</td>\n",
       "      <td>18.000000</td>\n",
       "      <td>16.000000</td>\n",
       "      <td>89.000000</td>\n",
       "      <td>70.000000</td>\n",
       "      <td>44.000000</td>\n",
       "      <td>1006.000000</td>\n",
       "      <td>1004.000000</td>\n",
       "      <td>1002.000000</td>\n",
       "      <td>5.000000</td>\n",
       "      <td>4.000000</td>\n",
       "      <td>2.000000</td>\n",
       "      <td>5.000000</td>\n",
       "      <td>0.000000</td>\n",
       "    </tr>\n",
       "    <tr>\n",
       "      <th>50%</th>\n",
       "      <td>2015.000000</td>\n",
       "      <td>7.000000</td>\n",
       "      <td>16.000000</td>\n",
       "      <td>31.000000</td>\n",
       "      <td>27.000000</td>\n",
       "      <td>24.000000</td>\n",
       "      <td>26.000000</td>\n",
       "      <td>24.000000</td>\n",
       "      <td>22.000000</td>\n",
       "      <td>94.000000</td>\n",
       "      <td>76.000000</td>\n",
       "      <td>58.000000</td>\n",
       "      <td>1010.000000</td>\n",
       "      <td>1008.000000</td>\n",
       "      <td>1006.000000</td>\n",
       "      <td>5.000000</td>\n",
       "      <td>5.000000</td>\n",
       "      <td>3.000000</td>\n",
       "      <td>8.000000</td>\n",
       "      <td>0.000000</td>\n",
       "    </tr>\n",
       "    <tr>\n",
       "      <th>75%</th>\n",
       "      <td>2016.000000</td>\n",
       "      <td>10.000000</td>\n",
       "      <td>23.000000</td>\n",
       "      <td>32.000000</td>\n",
       "      <td>29.000000</td>\n",
       "      <td>26.000000</td>\n",
       "      <td>27.000000</td>\n",
       "      <td>26.000000</td>\n",
       "      <td>24.000000</td>\n",
       "      <td>94.000000</td>\n",
       "      <td>82.000000</td>\n",
       "      <td>66.000000</td>\n",
       "      <td>1014.000000</td>\n",
       "      <td>1012.000000</td>\n",
       "      <td>1010.000000</td>\n",
       "      <td>6.000000</td>\n",
       "      <td>5.000000</td>\n",
       "      <td>4.000000</td>\n",
       "      <td>11.000000</td>\n",
       "      <td>0.510000</td>\n",
       "    </tr>\n",
       "    <tr>\n",
       "      <th>max</th>\n",
       "      <td>2017.000000</td>\n",
       "      <td>12.000000</td>\n",
       "      <td>31.000000</td>\n",
       "      <td>51.000000</td>\n",
       "      <td>39.000000</td>\n",
       "      <td>29.000000</td>\n",
       "      <td>32.000000</td>\n",
       "      <td>28.000000</td>\n",
       "      <td>27.000000</td>\n",
       "      <td>100.000000</td>\n",
       "      <td>99.000000</td>\n",
       "      <td>94.000000</td>\n",
       "      <td>1061.000000</td>\n",
       "      <td>1018.000000</td>\n",
       "      <td>1017.000000</td>\n",
       "      <td>27.000000</td>\n",
       "      <td>7.000000</td>\n",
       "      <td>6.000000</td>\n",
       "      <td>37.000000</td>\n",
       "      <td>151.890000</td>\n",
       "    </tr>\n",
       "  </tbody>\n",
       "</table>\n",
       "</div>"
      ],
      "text/plain": [
       "              year        month          day     tempHigh      tempAvg  \\\n",
       "count  2191.000000  2191.000000  2191.000000  2191.000000  2191.000000   \n",
       "mean   2014.500685     6.524418    15.726609    30.172980    26.296212   \n",
       "std       1.708126     3.448542     8.800821     2.926921     3.392764   \n",
       "min    2012.000000     1.000000     1.000000    14.000000    13.000000   \n",
       "25%    2013.000000     4.000000     8.000000    28.000000    24.000000   \n",
       "50%    2015.000000     7.000000    16.000000    31.000000    27.000000   \n",
       "75%    2016.000000    10.000000    23.000000    32.000000    29.000000   \n",
       "max    2017.000000    12.000000    31.000000    51.000000    39.000000   \n",
       "\n",
       "           tempLow       DPHigh        DPAvg        DPLow  humidityHigh  \\\n",
       "count  2191.000000  2191.000000  2191.000000  2191.000000   2191.000000   \n",
       "mean     22.555454    23.656778    21.920128    19.727978     91.902784   \n",
       "std       4.288724     4.070043     4.705822     5.707636      5.798138   \n",
       "min       9.000000    10.000000     7.000000     0.000000     48.000000   \n",
       "25%      19.000000    21.000000    18.000000    16.000000     89.000000   \n",
       "50%      24.000000    26.000000    24.000000    22.000000     94.000000   \n",
       "75%      26.000000    27.000000    26.000000    24.000000     94.000000   \n",
       "max      29.000000    32.000000    28.000000    27.000000    100.000000   \n",
       "\n",
       "       humidityAvg  humidityLow      SLPHigh       SLPAvg       SLPLow  \\\n",
       "count  2191.000000  2191.000000  2191.000000  2191.000000  2191.000000   \n",
       "mean     74.968964    54.916933  1009.896851  1007.621634  1005.516203   \n",
       "std      10.539248    16.924232     5.234182     4.941176     5.010271   \n",
       "min      33.000000     4.000000   996.000000   991.000000   978.000000   \n",
       "25%      70.000000    44.000000  1006.000000  1004.000000  1002.000000   \n",
       "50%      76.000000    58.000000  1010.000000  1008.000000  1006.000000   \n",
       "75%      82.000000    66.000000  1014.000000  1012.000000  1010.000000   \n",
       "max      99.000000    94.000000  1061.000000  1018.000000  1017.000000   \n",
       "\n",
       "       visibilityHigh  visibilityAvg  visibilityLow      windAvg     Rainfall  \n",
       "count     2191.000000    2191.000000    2191.000000  2191.000000  2191.000000  \n",
       "mean         5.339115       4.487905       2.960749     8.543587     2.853241  \n",
       "std          2.019883       1.043228       1.507459     4.826184    10.062828  \n",
       "min          2.000000       1.000000       0.000000     0.000000     0.000000  \n",
       "25%          5.000000       4.000000       2.000000     5.000000     0.000000  \n",
       "50%          5.000000       5.000000       3.000000     8.000000     0.000000  \n",
       "75%          6.000000       5.000000       4.000000    11.000000     0.510000  \n",
       "max         27.000000       7.000000       6.000000    37.000000   151.890000  "
      ]
     },
     "execution_count": 124,
     "metadata": {},
     "output_type": "execute_result"
    }
   ],
   "source": [
    "dataset.describe()"
   ]
  },
  {
   "cell_type": "code",
   "execution_count": 125,
   "metadata": {
    "_uuid": "718b82039841c137ab7e08a6e79e264643134642"
   },
   "outputs": [
    {
     "name": "stdout",
     "output_type": "stream",
     "text": [
      "<class 'pandas.core.frame.DataFrame'>\n",
      "RangeIndex: 2191 entries, 0 to 2190\n",
      "Data columns (total 20 columns):\n",
      " #   Column          Non-Null Count  Dtype  \n",
      "---  ------          --------------  -----  \n",
      " 0   year            2191 non-null   int64  \n",
      " 1   month           2191 non-null   int64  \n",
      " 2   day             2191 non-null   int64  \n",
      " 3   tempHigh        2191 non-null   int64  \n",
      " 4   tempAvg         2191 non-null   int64  \n",
      " 5   tempLow         2191 non-null   int64  \n",
      " 6   DPHigh          2191 non-null   int64  \n",
      " 7   DPAvg           2191 non-null   int64  \n",
      " 8   DPLow           2191 non-null   int64  \n",
      " 9   humidityHigh    2191 non-null   int64  \n",
      " 10  humidityAvg     2191 non-null   int64  \n",
      " 11  humidityLow     2191 non-null   int64  \n",
      " 12  SLPHigh         2191 non-null   int64  \n",
      " 13  SLPAvg          2191 non-null   int64  \n",
      " 14  SLPLow          2191 non-null   int64  \n",
      " 15  visibilityHigh  2191 non-null   int64  \n",
      " 16  visibilityAvg   2191 non-null   int64  \n",
      " 17  visibilityLow   2191 non-null   int64  \n",
      " 18  windAvg         2191 non-null   int64  \n",
      " 19  Rainfall        2191 non-null   float64\n",
      "dtypes: float64(1), int64(19)\n",
      "memory usage: 342.5 KB\n"
     ]
    }
   ],
   "source": [
    "dataset.info()"
   ]
  },
  {
   "cell_type": "markdown",
   "metadata": {
    "_uuid": "6a970312b67b588610a8579ecc2ba4bac0fcee04"
   },
   "source": [
    "#### Analysing the 'target' variable"
   ]
  },
  {
   "cell_type": "code",
   "execution_count": 126,
   "metadata": {
    "_uuid": "b883243919bd382193ed15e2a90f9b522bf6f1f7"
   },
   "outputs": [
    {
     "data": {
      "text/plain": [
       "count    2191.000000\n",
       "mean        2.853241\n",
       "std        10.062828\n",
       "min         0.000000\n",
       "25%         0.000000\n",
       "50%         0.000000\n",
       "75%         0.510000\n",
       "max       151.890000\n",
       "Name: Rainfall, dtype: float64"
      ]
     },
     "execution_count": 126,
     "metadata": {},
     "output_type": "execute_result"
    }
   ],
   "source": [
    "dataset[\"Rainfall\"].describe()"
   ]
  },
  {
   "cell_type": "code",
   "execution_count": 127,
   "metadata": {
    "_uuid": "9c107b83e0148914826282bf1f0ab28505d577ab"
   },
   "outputs": [
    {
     "data": {
      "text/plain": [
       "array([  0.  ,   5.08,  23.88,  11.94,   6.1 ,   1.02,  17.02,  48.01,\n",
       "         3.05,  21.08,  33.02,   2.03,   0.25,   7.11,  58.93,  30.99,\n",
       "         4.06,  23.11,  49.02,  80.01,   9.91,  25.91,   0.51,   7.87,\n",
       "         8.89,  71.88,  13.97,   0.76,  50.04,  24.89, 151.89,  97.03,\n",
       "        20.07,  27.94,  40.89,  35.05,  12.95,  18.03,  19.05,  26.92,\n",
       "        16.  ,  10.92, 102.11,  14.99,  54.1 , 104.9 ,  38.1 ,  36.07,\n",
       "        41.91,  39.88,  29.97,  72.9 ,  34.04, 100.08,  28.96,  73.91,\n",
       "        37.08,  62.99,  71.12,  22.1 ,  39.12,  53.09,  87.88,  61.98,\n",
       "       116.08,  46.99,  55.12])"
      ]
     },
     "execution_count": 127,
     "metadata": {},
     "output_type": "execute_result"
    }
   ],
   "source": [
    "dataset[\"Rainfall\"].unique()"
   ]
  },
  {
   "cell_type": "markdown",
   "metadata": {
    "_uuid": "3ae0dfa26e2daf4cfc8e1c6f3b5008d0dab22ec0"
   },
   "source": [
    "### Checking correlation between columns"
   ]
  },
  {
   "cell_type": "code",
   "execution_count": 128,
   "metadata": {
    "_uuid": "3059188d3874be2e0c80e13655609ac6a6fc644f"
   },
   "outputs": [
    {
     "name": "stdout",
     "output_type": "stream",
     "text": [
      "Rainfall          1.000000\n",
      "humidityAvg       0.311106\n",
      "humidityLow       0.296891\n",
      "SLPAvg            0.256456\n",
      "SLPLow            0.252499\n",
      "SLPHigh           0.248045\n",
      "humidityHigh      0.204248\n",
      "DPAvg             0.182082\n",
      "DPHigh            0.181716\n",
      "DPLow             0.174783\n",
      "windAvg           0.168254\n",
      "tempLow           0.135812\n",
      "visibilityLow     0.088016\n",
      "tempAvg           0.071663\n",
      "tempHigh          0.045442\n",
      "month             0.029664\n",
      "visibilityAvg     0.026717\n",
      "visibilityHigh    0.010814\n",
      "day               0.006710\n",
      "year              0.005712\n",
      "Name: Rainfall, dtype: float64\n"
     ]
    }
   ],
   "source": [
    "print(dataset.corr()[\"Rainfall\"].abs().sort_values(ascending=False))"
   ]
  },
  {
   "cell_type": "code",
   "execution_count": 129,
   "metadata": {},
   "outputs": [
    {
     "data": {
      "text/plain": [
       "<AxesSubplot:ylabel='Frequency'>"
      ]
     },
     "execution_count": 129,
     "metadata": {},
     "output_type": "execute_result"
    },
    {
     "data": {
      "image/png": "[encoded data removed]",
      "text/plain": [
       "<Figure size 648x360 with 1 Axes>"
      ]
     },
     "metadata": {
      "needs_background": "light"
     },
     "output_type": "display_data"
    }
   ],
   "source": [
    "plt.figure(figsize = (9, 5)) \n",
    "dataset['Rainfall'].plot(kind =\"hist\") \n"
   ]
  },
  {
   "cell_type": "markdown",
   "metadata": {
    "_uuid": "40b6c0a9d03bcab78b87bd41c7df3fe1b930547a"
   },
   "source": [
    "## Exploratory Data Analysis (EDA)"
   ]
  },
  {
   "cell_type": "markdown",
   "metadata": {
    "_uuid": "41da6ba94903ad6ee64b1ba6a1462815ae603536"
   },
   "source": [
    "### First, analysing the target variable:"
   ]
  },
  {
   "cell_type": "code",
   "execution_count": 130,
   "metadata": {
    "_uuid": "29aa23ccb8e6438688e16346b3474f4cc03bae13"
   },
   "outputs": [
    {
     "name": "stdout",
     "output_type": "stream",
     "text": [
      "0.00      1609\n",
      "1.02        74\n",
      "2.03        72\n",
      "3.05        42\n",
      "0.51        39\n",
      "          ... \n",
      "35.05        1\n",
      "71.88        1\n",
      "97.03        1\n",
      "151.89       1\n",
      "55.12        1\n",
      "Name: Rainfall, Length: 67, dtype: int64\n"
     ]
    },
    {
     "data": {
      "image/png": "[encoded data removed]",
      "text/plain": [
       "<Figure size 432x288 with 1 Axes>"
      ]
     },
     "metadata": {
      "needs_background": "light"
     },
     "output_type": "display_data"
    }
   ],
   "source": [
    "y = dataset[\"Rainfall\"]\n",
    "sns.countplot(y)\n",
    "target_temp = dataset.Rainfall.value_counts()\n",
    "plt.xlabel('DAY')\n",
    "plt.ylabel('SLP_AVG')\n",
    "print(target_temp)"
   ]
  },
  {
   "cell_type": "code",
   "execution_count": 131,
   "metadata": {
    "_uuid": "07a3fb2f44b82360d0393377029851655bcdcd31"
   },
   "outputs": [
    {
     "data": {
      "text/plain": [
       "array([2012, 2013, 2014, 2015, 2016, 2017], dtype=int64)"
      ]
     },
     "execution_count": 131,
     "metadata": {},
     "output_type": "execute_result"
    }
   ],
   "source": [
    "dataset[\"year\"].unique()"
   ]
  },
  {
   "cell_type": "code",
   "execution_count": 132,
   "metadata": {
    "_uuid": "5d10e6c167251e6d3b1b82a06159da234eeef721"
   },
   "outputs": [
    {
     "data": {
      "text/plain": [
       "<AxesSubplot:xlabel='year', ylabel='Rainfall'>"
      ]
     },
     "execution_count": 132,
     "metadata": {},
     "output_type": "execute_result"
    },
    {
     "data": {
      "image/png": "[encoded data removed]",
      "text/plain": [
       "<Figure size 432x288 with 1 Axes>"
      ]
     },
     "metadata": {
      "needs_background": "light"
     },
     "output_type": "display_data"
    }
   ],
   "source": [
    "sns.barplot(dataset[\"year\"],y)"
   ]
  },
  {
   "cell_type": "code",
   "execution_count": 133,
   "metadata": {
    "_uuid": "7c795d4a86ee05d58e10a412add90065afbd4a70"
   },
   "outputs": [
    {
     "data": {
      "text/plain": [
       "array([ 1,  2,  3,  4,  5,  6,  7,  8,  9, 10, 11, 12, 13, 14, 15, 16, 17,\n",
       "       18, 19, 20, 21, 22, 23, 24, 25, 26, 27, 28, 30, 31, 29],\n",
       "      dtype=int64)"
      ]
     },
     "execution_count": 133,
     "metadata": {},
     "output_type": "execute_result"
    }
   ],
   "source": [
    "dataset[\"day\"].unique()"
   ]
  },
  {
   "cell_type": "code",
   "execution_count": 134,
   "metadata": {
    "_uuid": "56d6ed2b3d8d20a61814980cd459502b452d14c1"
   },
   "outputs": [
    {
     "data": {
      "text/plain": [
       "<AxesSubplot:xlabel='day', ylabel='Rainfall'>"
      ]
     },
     "execution_count": 134,
     "metadata": {},
     "output_type": "execute_result"
    },
    {
     "data": {
      "image/png": "[encoded data removed]",
      "text/plain": [
       "<Figure size 432x288 with 1 Axes>"
      ]
     },
     "metadata": {
      "needs_background": "light"
     },
     "output_type": "display_data"
    }
   ],
   "source": [
    "sns.barplot(dataset[\"day\"],y)"
   ]
  },
  {
   "cell_type": "code",
   "execution_count": 135,
   "metadata": {
    "_uuid": "55f9ca01da5294b5404f3eb14d202ae90e0ea1bf"
   },
   "outputs": [
    {
     "data": {
      "text/plain": [
       "count    2191.000000\n",
       "mean        6.524418\n",
       "std         3.448542\n",
       "min         1.000000\n",
       "25%         4.000000\n",
       "50%         7.000000\n",
       "75%        10.000000\n",
       "max        12.000000\n",
       "Name: month, dtype: float64"
      ]
     },
     "execution_count": 135,
     "metadata": {},
     "output_type": "execute_result"
    }
   ],
   "source": [
    "dataset[\"month\"].describe()"
   ]
  },
  {
   "cell_type": "code",
   "execution_count": 136,
   "metadata": {
    "_uuid": "43d491d311a8b96a6a9cbecbeff87f577584cd3a"
   },
   "outputs": [
    {
     "data": {
      "text/plain": [
       "array([ 1,  2,  3,  4,  5,  6,  7,  8,  9, 10, 11, 12], dtype=int64)"
      ]
     },
     "execution_count": 136,
     "metadata": {},
     "output_type": "execute_result"
    }
   ],
   "source": [
    "dataset[\"month\"].unique()"
   ]
  },
  {
   "cell_type": "code",
   "execution_count": 137,
   "metadata": {
    "_uuid": "90509dcee97df858115131c771e69347a044aafb"
   },
   "outputs": [
    {
     "data": {
      "text/plain": [
       "<AxesSubplot:xlabel='month', ylabel='Rainfall'>"
      ]
     },
     "execution_count": 137,
     "metadata": {},
     "output_type": "execute_result"
    },
    {
     "data": {
      "image/png": "[encoded data removed]",
      "text/plain": [
       "<Figure size 432x288 with 1 Axes>"
      ]
     },
     "metadata": {
      "needs_background": "light"
     },
     "output_type": "display_data"
    }
   ],
   "source": [
    "sns.barplot(dataset[\"month\"],y)"
   ]
  },
  {
   "cell_type": "code",
   "execution_count": 138,
   "metadata": {
    "_uuid": "53dd2985ea50aa6f9c9e5931050b4ef7b7aa609d"
   },
   "outputs": [
    {
     "data": {
      "text/plain": [
       "array([23, 22, 21, 20, 18, 19, 13, 24, 26, 25, 27, 28, 30, 29, 31, 16, 17,\n",
       "       14, 33, 32, 39], dtype=int64)"
      ]
     },
     "execution_count": 138,
     "metadata": {},
     "output_type": "execute_result"
    }
   ],
   "source": [
    "dataset[\"tempAvg\"].unique()"
   ]
  },
  {
   "cell_type": "code",
   "execution_count": 139,
   "metadata": {
    "_uuid": "237a60a2a11dab86e50cafcee4ec47df752876a1"
   },
   "outputs": [
    {
     "data": {
      "text/plain": [
       "<AxesSubplot:xlabel='tempAvg', ylabel='Rainfall'>"
      ]
     },
     "execution_count": 139,
     "metadata": {},
     "output_type": "execute_result"
    },
    {
     "data": {
      "image/png": "[encoded data removed]",
      "text/plain": [
       "<Figure size 432x288 with 1 Axes>"
      ]
     },
     "metadata": {
      "needs_background": "light"
     },
     "output_type": "display_data"
    }
   ],
   "source": [
    "sns.barplot(dataset[\"tempAvg\"],y)"
   ]
  },
  {
   "cell_type": "code",
   "execution_count": 140,
   "metadata": {
    "_uuid": "e1e148d25967c36d2bb5fbfb802c70dae93f8a4f"
   },
   "outputs": [
    {
     "data": {
      "text/plain": [
       "array([57, 65, 71, 66, 75, 73, 79, 68, 74, 72, 63, 58, 87, 82, 53, 60, 61,\n",
       "       91, 45, 43, 46, 42, 51, 56, 62, 44, 40, 37, 55, 49, 77, 64, 81, 84,\n",
       "       83, 76, 41, 50, 59, 67, 78, 80, 69, 86, 90, 92, 85, 96, 95, 98, 89,\n",
       "       88, 93, 94, 70, 52, 48, 47, 97, 54, 39, 36, 34, 33, 99, 38],\n",
       "      dtype=int64)"
      ]
     },
     "execution_count": 140,
     "metadata": {},
     "output_type": "execute_result"
    }
   ],
   "source": [
    "dataset[\"humidityAvg\"].unique()"
   ]
  },
  {
   "cell_type": "code",
   "execution_count": 141,
   "metadata": {
    "_uuid": "beaa943c166b3c550fe357e6e937dbda46b707c9"
   },
   "outputs": [
    {
     "data": {
      "text/plain": [
       "<AxesSubplot:xlabel='humidityAvg', ylabel='Rainfall'>"
      ]
     },
     "execution_count": 141,
     "metadata": {},
     "output_type": "execute_result"
    },
    {
     "data": {
      "image/png": "[encoded data removed]",
      "text/plain": [
       "<Figure size 432x288 with 1 Axes>"
      ]
     },
     "metadata": {
      "needs_background": "light"
     },
     "output_type": "display_data"
    }
   ],
   "source": [
    "sns.barplot(dataset[\"humidityAvg\"],y)"
   ]
  },
  {
   "cell_type": "code",
   "execution_count": 142,
   "metadata": {
    "_uuid": "829fcda5b63e1b9f7ecb7762e8ca617166533aca"
   },
   "outputs": [],
   "source": [
    "from sklearn.model_selection import train_test_split\n",
    "\n",
    "predictors = dataset.drop([\"year\",\"Rainfall\",\"humidityLow\",\"tempHigh\",\"SLPAvg\",\"SLPLow\",\"SLPHigh\",\"visibilityHigh\",\"visibilityAvg\",\n",
    "                         \"visibilityLow\",\"tempLow\",\"windAvg\",\"DPLow\",\"DPHigh\",\"DPAvg\",\n",
    "                          \"humidityHigh\",\"SLPHigh\",\"SLPLow\",\"SLPAvg\",\"humidityLow\"],axis=1)\n",
    "\n",
    "\n",
    "target = dataset[\"Rainfall\"]\n",
    "\n",
    "X_train,X_test,y_train,y_test = train_test_split(predictors,target,test_size=0.20,random_state=0)\n",
    "# If random state is 0 we will get same test and train set across diff execution"
   ]
  },
  {
   "cell_type": "code",
   "execution_count": 143,
   "metadata": {},
   "outputs": [
    {
     "data": {
      "text/html": [
       "<div>\n",
       "<style scoped>\n",
       "    .dataframe tbody tr th:only-of-type {\n",
       "        vertical-align: middle;\n",
       "    }\n",
       "\n",
       "    .dataframe tbody tr th {\n",
       "        vertical-align: top;\n",
       "    }\n",
       "\n",
       "    .dataframe thead th {\n",
       "        text-align: right;\n",
       "    }\n",
       "</style>\n",
       "<table border=\"1\" class=\"dataframe\">\n",
       "  <thead>\n",
       "    <tr style=\"text-align: right;\">\n",
       "      <th></th>\n",
       "      <th>month</th>\n",
       "      <th>day</th>\n",
       "      <th>tempAvg</th>\n",
       "      <th>humidityAvg</th>\n",
       "    </tr>\n",
       "  </thead>\n",
       "  <tbody>\n",
       "    <tr>\n",
       "      <th>0</th>\n",
       "      <td>1</td>\n",
       "      <td>1</td>\n",
       "      <td>23</td>\n",
       "      <td>57</td>\n",
       "    </tr>\n",
       "    <tr>\n",
       "      <th>1</th>\n",
       "      <td>1</td>\n",
       "      <td>2</td>\n",
       "      <td>22</td>\n",
       "      <td>65</td>\n",
       "    </tr>\n",
       "    <tr>\n",
       "      <th>2</th>\n",
       "      <td>1</td>\n",
       "      <td>3</td>\n",
       "      <td>22</td>\n",
       "      <td>71</td>\n",
       "    </tr>\n",
       "    <tr>\n",
       "      <th>3</th>\n",
       "      <td>1</td>\n",
       "      <td>4</td>\n",
       "      <td>23</td>\n",
       "      <td>66</td>\n",
       "    </tr>\n",
       "    <tr>\n",
       "      <th>4</th>\n",
       "      <td>1</td>\n",
       "      <td>5</td>\n",
       "      <td>23</td>\n",
       "      <td>71</td>\n",
       "    </tr>\n",
       "    <tr>\n",
       "      <th>...</th>\n",
       "      <td>...</td>\n",
       "      <td>...</td>\n",
       "      <td>...</td>\n",
       "      <td>...</td>\n",
       "    </tr>\n",
       "    <tr>\n",
       "      <th>2186</th>\n",
       "      <td>12</td>\n",
       "      <td>27</td>\n",
       "      <td>23</td>\n",
       "      <td>71</td>\n",
       "    </tr>\n",
       "    <tr>\n",
       "      <th>2187</th>\n",
       "      <td>12</td>\n",
       "      <td>28</td>\n",
       "      <td>22</td>\n",
       "      <td>68</td>\n",
       "    </tr>\n",
       "    <tr>\n",
       "      <th>2188</th>\n",
       "      <td>12</td>\n",
       "      <td>29</td>\n",
       "      <td>23</td>\n",
       "      <td>66</td>\n",
       "    </tr>\n",
       "    <tr>\n",
       "      <th>2189</th>\n",
       "      <td>12</td>\n",
       "      <td>30</td>\n",
       "      <td>23</td>\n",
       "      <td>62</td>\n",
       "    </tr>\n",
       "    <tr>\n",
       "      <th>2190</th>\n",
       "      <td>12</td>\n",
       "      <td>31</td>\n",
       "      <td>24</td>\n",
       "      <td>68</td>\n",
       "    </tr>\n",
       "  </tbody>\n",
       "</table>\n",
       "<p>2191 rows × 4 columns</p>\n",
       "</div>"
      ],
      "text/plain": [
       "      month  day  tempAvg  humidityAvg\n",
       "0         1    1       23           57\n",
       "1         1    2       22           65\n",
       "2         1    3       22           71\n",
       "3         1    4       23           66\n",
       "4         1    5       23           71\n",
       "...     ...  ...      ...          ...\n",
       "2186     12   27       23           71\n",
       "2187     12   28       22           68\n",
       "2188     12   29       23           66\n",
       "2189     12   30       23           62\n",
       "2190     12   31       24           68\n",
       "\n",
       "[2191 rows x 4 columns]"
      ]
     },
     "execution_count": 143,
     "metadata": {},
     "output_type": "execute_result"
    }
   ],
   "source": [
    "# These are  top effecting factors on rainfall\n",
    "predictors"
   ]
  },
  {
   "cell_type": "code",
   "execution_count": 144,
   "metadata": {
    "_uuid": "7a74842015c2f193d16caa4fa25e2c4cbf1940f8"
   },
   "outputs": [
    {
     "data": {
      "text/plain": [
       "(1752, 4)"
      ]
     },
     "execution_count": 144,
     "metadata": {},
     "output_type": "execute_result"
    }
   ],
   "source": [
    "X_train.shape"
   ]
  },
  {
   "cell_type": "code",
   "execution_count": 145,
   "metadata": {
    "_uuid": "1f777652df4521deb877dac4d5d635d8cd35b279"
   },
   "outputs": [
    {
     "data": {
      "text/plain": [
       "(439, 4)"
      ]
     },
     "execution_count": 145,
     "metadata": {},
     "output_type": "execute_result"
    }
   ],
   "source": [
    "X_test.shape"
   ]
  },
  {
   "cell_type": "code",
   "execution_count": 146,
   "metadata": {
    "_uuid": "028c968a076840657faf7dbc3bfee9fe7b5ca45a"
   },
   "outputs": [
    {
     "data": {
      "text/plain": [
       "(1752,)"
      ]
     },
     "execution_count": 146,
     "metadata": {},
     "output_type": "execute_result"
    }
   ],
   "source": [
    "y_train.shape"
   ]
  },
  {
   "cell_type": "code",
   "execution_count": 147,
   "metadata": {
    "_uuid": "eb6857dfc18da52dae38bec95d20106f39136e61"
   },
   "outputs": [
    {
     "data": {
      "text/plain": [
       "(439,)"
      ]
     },
     "execution_count": 147,
     "metadata": {},
     "output_type": "execute_result"
    }
   ],
   "source": [
    "y_test.shape"
   ]
  },
  {
   "cell_type": "markdown",
   "metadata": {
    "_uuid": "3b4f28488a92917f26e9876c1880295ec9c077ed"
   },
   "source": [
    "\n",
    "## V. Model Fitting"
   ]
  },
  {
   "cell_type": "code",
   "execution_count": 148,
   "metadata": {
    "_uuid": "fe363c1be8335a48a4444660db5fa6bd0a24b71a"
   },
   "outputs": [],
   "source": [
    "from sklearn.metrics import accuracy_score"
   ]
  },
  {
   "cell_type": "markdown",
   "metadata": {
    "_uuid": "afa6b322cbc225f3353bd295aea24fe5fbbb78fe"
   },
   "source": [
    "### Support Vector Regression"
   ]
  },
  {
   "cell_type": "code",
   "execution_count": 149,
   "metadata": {
    "_uuid": "9aea2f597203ccf38cd0d67ae58bff6e163dea1c"
   },
   "outputs": [],
   "source": [
    "from sklearn.svm import SVR\n",
    "\n",
    "sr = SVR(kernel='rbf')\n",
    "\n",
    "sr.fit(X_train,y_train)\n",
    "\n",
    "Y_pred_sr = sr.predict(X_test)"
   ]
  },
  {
   "cell_type": "code",
   "execution_count": 150,
   "metadata": {
    "_uuid": "58fb833d1c74355ebdafe926968632942f377421"
   },
   "outputs": [
    {
     "data": {
      "text/plain": [
       "(439,)"
      ]
     },
     "execution_count": 150,
     "metadata": {},
     "output_type": "execute_result"
    }
   ],
   "source": [
    "Y_pred_sr.shape"
   ]
  },
  {
   "cell_type": "code",
   "execution_count": 151,
   "metadata": {
    "_uuid": "ee4cba838316adf863f8daf131d36a970d36b839"
   },
   "outputs": [
    {
     "name": "stdout",
     "output_type": "stream",
     "text": [
      "The accuracy score achieved using support vector Regression is: -0.030657740103539943 %\n"
     ]
    }
   ],
   "source": [
    "score_sr = sr.score(X_test,Y_test)\n",
    "\n",
    "print(f\"The accuracy score achieved using support vector Regression is: {str(score_sr)} %\")\n",
    "# worst accuracy"
   ]
  },
  {
   "cell_type": "code",
   "execution_count": 152,
   "metadata": {},
   "outputs": [
    {
     "name": "stderr",
     "output_type": "stream",
     "text": [
      "No handles with labels found to put in legend.\n"
     ]
    },
    {
     "data": {
      "image/png": "[encoded data removed]",
      "text/plain": [
       "<Figure size 432x288 with 1 Axes>"
      ]
     },
     "metadata": {
      "needs_background": "light"
     },
     "output_type": "display_data"
    }
   ],
   "source": [
    "plt.plot(X_test, y_test, label='')\n",
    "\n",
    "plt.plot(X_test, Y_pred_sr, 'co', label='')\n",
    "\n",
    "plt.xlabel('HUMIDITY_LOW')\n",
    "plt.ylabel('HUMIDITY_HIGH')\n",
    "plt.legend()\n",
    "plt.savefig(\"graph1.png\")\n",
    "plt.show()"
   ]
  },
  {
   "cell_type": "markdown",
   "metadata": {
    "_uuid": "e224ab23f275a3a56cdba6a9ccfddbd6a4d3b4fd"
   },
   "source": [
    "\n",
    "### Neural Network"
   ]
  },
  {
   "cell_type": "code",
   "execution_count": 153,
   "metadata": {
    "_uuid": "727b391ad6d86468a96e93dc645ade6e2da4048e"
   },
   "outputs": [],
   "source": [
    "from sklearn.neighbors import KNeighborsClassifier\n",
    "from sklearn import preprocessing"
   ]
  },
  {
   "cell_type": "code",
   "execution_count": 163,
   "metadata": {
    "_uuid": "650f1baa7db466923626c707408319fa29f22d10"
   },
   "outputs": [],
   "source": [
    "clf=KNeighborsClassifier(n_neighbors=3)\n",
    "lab = preprocessing.LabelEncoder()\n",
    "y_transformed = lab.fit_transform(y_train)\n",
    "y_test=lab.fit_transform(y_test)"
   ]
  },
  {
   "cell_type": "code",
   "execution_count": 164,
   "metadata": {
    "_uuid": "dde4e50b5c4c24c73b03133fc7c90bf663fd6d82"
   },
   "outputs": [
    {
     "data": {
      "text/plain": [
       "KNeighborsClassifier(n_neighbors=3)"
      ]
     },
     "execution_count": 164,
     "metadata": {},
     "output_type": "execute_result"
    }
   ],
   "source": [
    "clf.fit(X_train,y_transformed)"
   ]
  },
  {
   "cell_type": "code",
   "execution_count": 165,
   "metadata": {
    "_uuid": "c844af4f00d40c4cce4c4e5a9a01c9a892e9533d"
   },
   "outputs": [],
   "source": [
    "Y_pred_nn = clf.predict(X_test)\n",
    "# print(Y_pred_nn)"
   ]
  },
  {
   "cell_type": "code",
   "execution_count": 166,
   "metadata": {
    "_uuid": "7e95c4946c0103225663862f43f31c41ed5aa2b1"
   },
   "outputs": [
    {
     "data": {
      "text/plain": [
       "(439,)"
      ]
     },
     "execution_count": 166,
     "metadata": {},
     "output_type": "execute_result"
    }
   ],
   "source": [
    "Y_pred_nn.shape"
   ]
  },
  {
   "cell_type": "code",
   "execution_count": 167,
   "metadata": {
    "_uuid": "66d9268e3f87b5a98066196eaa39363218a20015"
   },
   "outputs": [],
   "source": [
    "score_nn = clf.score(X_test,y_test)"
   ]
  },
  {
   "cell_type": "markdown",
   "metadata": {
    "_uuid": "c634cd922d716d350f6db0244772260cc598dec4"
   },
   "source": [
    "## VI. Output final score"
   ]
  },
  {
   "cell_type": "code",
   "execution_count": 168,
   "metadata": {
    "_uuid": "101daa51242624c49bb8b3198d9d2c9f8f1c596e"
   },
   "outputs": [
    {
     "name": "stdout",
     "output_type": "stream",
     "text": [
      "The accuracy score achieved using Support Vector Regression is: -0.030657740103539943 %\n",
      "The accuracy score achieved using Neural Network is: 0.6993166287015945 %\n"
     ]
    }
   ],
   "source": [
    "scores = [score_sr,score_nn]\n",
    "algorithms = [\"Support Vector Regression\",\"Neural Network\"]    \n",
    "\n",
    "for i in range(len(algorithms)):\n",
    "    print(\"The accuracy score achieved using \"+algorithms[i]+\" is: \"+str(scores[i])+\" %\")"
   ]
  },
  {
   "cell_type": "code",
   "execution_count": 169,
   "metadata": {
    "_uuid": "8060c7d426f9f7b64772f37e0a74ededca16838d"
   },
   "outputs": [
    {
     "data": {
      "text/plain": [
       "<AxesSubplot:xlabel='Algorithms', ylabel='Accuracy score'>"
      ]
     },
     "execution_count": 169,
     "metadata": {},
     "output_type": "execute_result"
    },
    {
     "data": {
      "image/png": "[encoded data removed]",
      "text/plain": [
       "<Figure size 1080x576 with 1 Axes>"
      ]
     },
     "metadata": {},
     "output_type": "display_data"
    }
   ],
   "source": [
    "sns.set(rc={'figure.figsize':(15,8)})\n",
    "plt.xlabel(\"Algorithms\")\n",
    "plt.ylabel(\"Accuracy score\")\n",
    "sns.barplot(algorithms,scores)"
   ]
  },
  {
   "cell_type": "code",
   "execution_count": 170,
   "metadata": {},
   "outputs": [
    {
     "name": "stdout",
     "output_type": "stream",
     "text": [
      "\n",
      "Current Weather Data Of bengaluru:\n",
      "\n",
      "{'base': 'stations',\n",
      " 'clouds': {'all': 100},\n",
      " 'cod': 200,\n",
      " 'coord': {'lat': 12.9762, 'lon': 77.6033},\n",
      " 'dt': 1656949669,\n",
      " 'id': 1277333,\n",
      " 'main': {'feels_like': 296.45,\n",
      "          'humidity': 83,\n",
      "          'pressure': 1009,\n",
      "          'temp': 295.95,\n",
      "          'temp_max': 296.05,\n",
      "          'temp_min': 295.95},\n",
      " 'name': 'Bengaluru',\n",
      " 'sys': {'country': 'IN',\n",
      "         'id': 9205,\n",
      "         'sunrise': 1656894462,\n",
      "         'sunset': 1656940789,\n",
      "         'type': 1},\n",
      " 'timezone': 19800,\n",
      " 'visibility': 6000,\n",
      " 'weather': [{'description': 'overcast clouds',\n",
      "              'icon': '04n',\n",
      "              'id': 804,\n",
      "              'main': 'Clouds'}],\n",
      " 'wind': {'deg': 260, 'speed': 7.72}}\n"
     ]
    }
   ],
   "source": [
    "import requests\n",
    "\n",
    "from pprint import pprint\n",
    "\n",
    "API_key = \"7051e573c7f1bc4694955de889854075\"\n",
    "base_url = \"http://api.openweathermap.org/data/2.5/weather?\"\n",
    "\n",
    "city_name = input(\"Enter a city Name : \")\n",
    "Final_url = base_url + \"appid=\" + API_key + \"&q=\" + city_name\n",
    "\n",
    "weather_data = requests.get(Final_url).json()\n",
    "print(\"\\nCurrent Weather Data Of \" + city_name +\":\\n\")\n",
    "pprint(weather_data)"
   ]
  },
  {
   "cell_type": "code",
   "execution_count": 172,
   "metadata": {},
   "outputs": [
    {
     "name": "stdout",
     "output_type": "stream",
     "text": [
      "RAINFALL PREDICTION 2022\n",
      "   RANGE   \n",
      " 0   - 0.2  =>   No Rainfall \n",
      " 0.3 - 0.7  =>   Low Rainfall \n",
      " 0.8 - 1.2  =>   Moderate Rainfall \n",
      " 1.3 - 2    =>   Heavy Rainfall \n",
      "[-0.50993182]\n",
      "Low Rainfall\n"
     ]
    }
   ],
   "source": [
    "print('RAINFALL PREDICTION 2022')\n",
    "print('   RANGE   ')\n",
    "\n",
    "\n",
    "print(' 0   - 0.2  =>   No Rainfall ' )\n",
    "print(' 0.3 - 0.7  =>   Low Rainfall ' )\n",
    "print(' 0.8 - 1.2  =>   Moderate Rainfall ' )\n",
    "print(' 1.3 - 2    =>   Heavy Rainfall ' )\n",
    "\n",
    "city = input('Enter city     :')\n",
    "day = input('Enter day      :')\n",
    "   \n",
    "month = input('Enter month    :')\n",
    "    \n",
    "tempAvg = input('Enter temp     :')\n",
    "    \n",
    "humidityAvg = input('Enter humidity :')\n",
    "    \n",
    "out = sr.predict([[int(day),int(month),int(tempAvg),\n",
    "                              int(humidityAvg)]])\n",
    "\n",
    "print(out)\n",
    "if abs(out[0])<0.2:\n",
    "    print(' No Rainfall')\n",
    "elif abs(out[0])<=0.7:\n",
    "    print('Low Rainfall')\n",
    "elif abs(out[0])<=1.2:\n",
    "    print('Moderate Rainfall')\n",
    "else:\n",
    "    print(\"Heavy Rainfall\")\n",
    "    "
   ]
  },
  {
   "cell_type": "markdown",
   "metadata": {},
   "source": [
    " "
   ]
  },
  {
   "cell_type": "code",
   "execution_count": 171,
   "metadata": {},
   "outputs": [
    {
     "name": "stdout",
     "output_type": "stream",
     "text": [
      "RAINFALL PREDICTION 2020\n",
      "   RANGE   \n",
      " 0   - 0.2  =>   No Rainfall \n",
      " 0.3 - 0.7  =>   Low Rainfall \n",
      " 0.8 - 1.2  =>   Moderate Rainfall \n",
      " 1.3 - 2    =>   Heavy Rainfall \n",
      "[0]\n",
      " No Rainfall\n"
     ]
    }
   ],
   "source": [
    "print('RAINFALL PREDICTION 2022')\n",
    "print('   RANGE   ')\n",
    "\n",
    "\n",
    "print(' 0   - 0.2  =>   No Rainfall ' )\n",
    "print(' 0.3 - 0.7  =>   Low Rainfall ' )\n",
    "print(' 0.8 - 1.2  =>   Moderate Rainfall ' )\n",
    "print(' 1.3 - 2    =>   Heavy Rainfall ' )\n",
    "\n",
    "city = input('Enter city     :')\n",
    "day = input('Enter day      :')\n",
    "   \n",
    "month = input('Enter month    :')\n",
    "    \n",
    "tempAvg = input('Enter temp     :')\n",
    "    \n",
    "humidityAvg = input('Enter humidity :')\n",
    "    \n",
    "out = clf.predict([[int(day),int(month),int(tempAvg),\n",
    "                              int(humidityAvg)]])\n",
    "\n",
    "print(out)\n",
    "if abs(out[0])<0.2:\n",
    "    print(' No Rainfall')\n",
    "elif abs(out[0])<=0.7:\n",
    "    print('Low Rainfall')\n",
    "elif abs(out[0])<=1.2:\n",
    "    print('Moderate Rainfall')\n",
    "else:\n",
    "    print(\"Heavy Rainfall\")"
   ]
  },
  {
   "cell_type": "code",
   "execution_count": null,
   "metadata": {},
   "outputs": [],
   "source": []
  }
 ],
 "metadata": {
  "anaconda-cloud": {},
  "kernelspec": {
   "display_name": "Python 3",
   "language": "python",
   "name": "python3"
  },
  "language_info": {
   "codemirror_mode": {
    "name": "ipython",
    "version": 3
   },
   "file_extension": ".py",
   "mimetype": "text/x-python",
   "name": "python",
   "nbconvert_exporter": "python",
   "pygments_lexer": "ipython3",
   "version": "3.9.7"
  }
 },
 "nbformat": 4,
 "nbformat_minor": 1
}
