{
 "cells": [
  {
   "cell_type": "markdown",
   "metadata": {
    "_uuid": "e41ea25bec5928203cec544d0413fecd4b4e5555"
   },
   "source": [
    "\n",
    "\n",
    "\n",
    "\n",
    "\n",
    "\n",
    "\n",
    "\n",
    "\n",
    "\n",
    "\n",
    "\n",
    "\n",
    "\n",
    "\n",
    "\n",
    "\n",
    "\n",
    "\n",
    "\n",
    "\n",
    "\n",
    "\n",
    "\n",
    "\n",
    "\n",
    "\n",
    "\n",
    "\n",
    "\n",
    "\n",
    "\n",
    "\n",
    "\n",
    "\n",
    "\n",
    "\n",
    "\n",
    "\n",
    "\n",
    "\n",
    "\n",
    "\n",
    "\n",
    "\n",
    "\n",
    "\n",
    "\n",
    "\n",
    "\n",
    "\n",
    "\n",
    "\n",
    "\n",
    "\n",
    "\n",
    "\n",
    "\n",
    "\n",
    "\n",
    "\n",
    "\n",
    "\n",
    "\n",
    "\n",
    "\n",
    "\n",
    "\n",
    "\n",
    "\n",
    "\n",
    "## I. Importing essential libraries"
   ]
  },
  {
   "cell_type": "code",
   "execution_count": 1,
   "metadata": {
    "_uuid": "f571f7e57c828d45fe55f6136fe8c2e796f74d4e"
   },
   "outputs": [
    {
     "name": "stdout",
     "output_type": "stream",
     "text": [
      "['.graph2.png', '.ipynb_checkpoints', 'Annual.png', 'barplot(day).png', 'barplot(humidity).png', 'barplot(month).png', 'barplot(temp).png', 'barplot(year).png', 'comparison.png', 'comparison1.png', 'Daily Rainfall dataset Chittagong.csv', 'dailyhist.png', 'district wise rainfall normal.csv', 'district222.ipynb', 'final.pdf', 'final_dataset.csv', 'frequency.png', 'graph1.png', 'histogram.png', 'img.jpg', 'rain fall prediction', 'rain fall prediction district wise rainfall normal .ipynb', 'rain fall prediction rainfall in india 1901-2015.csv.ipynb', 'rainfall in india 1901-2015.csv', 'rain_fall_prediction.ipynb', 'Range.png', 'scatter.png', 'SLP.png', 'STATEGRAPH11.ipynb', 'svr.png', 'Untitled.ipynb', 'Untitled1.ipynb', 'Untitled2.ipynb', 'Untitled3.ipynb']\n"
     ]
    }
   ],
   "source": [
    "#!pip install seaborn\n",
    "import numpy as np\n",
    "import pandas as pd\n",
    "import matplotlib.pyplot as plt\n",
    "import seaborn as sns\n",
    "\n",
    "\n",
    "%matplotlib inline\n",
    "\n",
    "import os\n",
    "print(os.listdir())\n",
    "\n",
    "import warnings\n",
    "warnings.filterwarnings('ignore')"
   ]
  },
  {
   "cell_type": "markdown",
   "metadata": {
    "_uuid": "44e71221837f6fa60edc2c83b7492ddb019cc1cd"
   },
   "source": [
    "## II. Importing and understanding our dataset "
   ]
  },
  {
   "cell_type": "code",
   "execution_count": 2,
   "metadata": {
    "_uuid": "2a1a1dae64ae3c934849b2b918bc7d68cd59e3f6"
   },
   "outputs": [],
   "source": [
    "dataset = pd.read_csv(\"Daily Rainfall dataset Chittagong.csv\")"
   ]
  },
  {
   "cell_type": "markdown",
   "metadata": {
    "_uuid": "481fa1d160a3256ef2470535bfb0574820fbaabd"
   },
   "source": [
    "#### Verifying it as a 'dataframe' object in pandas"
   ]
  },
  {
   "cell_type": "code",
   "execution_count": 3,
   "metadata": {
    "_uuid": "86353d54a331dbf55a63874402cf13e2a72c3750"
   },
   "outputs": [
    {
     "data": {
      "text/plain": [
       "pandas.core.frame.DataFrame"
      ]
     },
     "execution_count": 3,
     "metadata": {},
     "output_type": "execute_result"
    }
   ],
   "source": [
    "type(dataset)"
   ]
  },
  {
   "cell_type": "markdown",
   "metadata": {
    "_uuid": "44649a50ce58d2e10a032f7d0e7ecf435e932481"
   },
   "source": [
    "#### Shape of dataset"
   ]
  },
  {
   "cell_type": "code",
   "execution_count": 4,
   "metadata": {
    "_uuid": "0a2396061d262bee451e61dd51be84d0bd1ac9d0"
   },
   "outputs": [
    {
     "data": {
      "text/plain": [
       "(2191, 20)"
      ]
     },
     "execution_count": 4,
     "metadata": {},
     "output_type": "execute_result"
    }
   ],
   "source": [
    "dataset.shape"
   ]
  },
  {
   "cell_type": "markdown",
   "metadata": {
    "_uuid": "3e1de0c39fc28f086a5e8377cc5fbdbf91d377b3"
   },
   "source": [
    "#### Printing out a few columns"
   ]
  },
  {
   "cell_type": "code",
   "execution_count": 5,
   "metadata": {
    "_uuid": "87ebcc578e5959fe9a9c9a538c73122183454459"
   },
   "outputs": [
    {
     "data": {
      "text/html": [
       "<div>\n",
       "<style scoped>\n",
       "    .dataframe tbody tr th:only-of-type {\n",
       "        vertical-align: middle;\n",
       "    }\n",
       "\n",
       "    .dataframe tbody tr th {\n",
       "        vertical-align: top;\n",
       "    }\n",
       "\n",
       "    .dataframe thead th {\n",
       "        text-align: right;\n",
       "    }\n",
       "</style>\n",
       "<table border=\"1\" class=\"dataframe\">\n",
       "  <thead>\n",
       "    <tr style=\"text-align: right;\">\n",
       "      <th></th>\n",
       "      <th>year</th>\n",
       "      <th>month</th>\n",
       "      <th>day</th>\n",
       "      <th>tempHigh</th>\n",
       "      <th>tempAvg</th>\n",
       "      <th>tempLow</th>\n",
       "      <th>DPHigh</th>\n",
       "      <th>DPAvg</th>\n",
       "      <th>DPLow</th>\n",
       "      <th>humidityHigh</th>\n",
       "      <th>humidityAvg</th>\n",
       "      <th>humidityLow</th>\n",
       "      <th>SLPHigh</th>\n",
       "      <th>SLPAvg</th>\n",
       "      <th>SLPLow</th>\n",
       "      <th>visibilityHigh</th>\n",
       "      <th>visibilityAvg</th>\n",
       "      <th>visibilityLow</th>\n",
       "      <th>windAvg</th>\n",
       "      <th>Rainfall</th>\n",
       "    </tr>\n",
       "  </thead>\n",
       "  <tbody>\n",
       "    <tr>\n",
       "      <th>0</th>\n",
       "      <td>2012</td>\n",
       "      <td>1</td>\n",
       "      <td>1</td>\n",
       "      <td>28</td>\n",
       "      <td>23</td>\n",
       "      <td>19</td>\n",
       "      <td>18</td>\n",
       "      <td>14</td>\n",
       "      <td>10</td>\n",
       "      <td>88</td>\n",
       "      <td>57</td>\n",
       "      <td>34</td>\n",
       "      <td>1015</td>\n",
       "      <td>1012</td>\n",
       "      <td>1010</td>\n",
       "      <td>6</td>\n",
       "      <td>5</td>\n",
       "      <td>4</td>\n",
       "      <td>5</td>\n",
       "      <td>0.0</td>\n",
       "    </tr>\n",
       "    <tr>\n",
       "      <th>1</th>\n",
       "      <td>2012</td>\n",
       "      <td>1</td>\n",
       "      <td>2</td>\n",
       "      <td>26</td>\n",
       "      <td>22</td>\n",
       "      <td>18</td>\n",
       "      <td>17</td>\n",
       "      <td>15</td>\n",
       "      <td>13</td>\n",
       "      <td>88</td>\n",
       "      <td>65</td>\n",
       "      <td>47</td>\n",
       "      <td>1015</td>\n",
       "      <td>1013</td>\n",
       "      <td>1012</td>\n",
       "      <td>4</td>\n",
       "      <td>3</td>\n",
       "      <td>2</td>\n",
       "      <td>2</td>\n",
       "      <td>0.0</td>\n",
       "    </tr>\n",
       "    <tr>\n",
       "      <th>2</th>\n",
       "      <td>2012</td>\n",
       "      <td>1</td>\n",
       "      <td>3</td>\n",
       "      <td>27</td>\n",
       "      <td>22</td>\n",
       "      <td>17</td>\n",
       "      <td>20</td>\n",
       "      <td>17</td>\n",
       "      <td>16</td>\n",
       "      <td>94</td>\n",
       "      <td>71</td>\n",
       "      <td>54</td>\n",
       "      <td>1014</td>\n",
       "      <td>1012</td>\n",
       "      <td>1010</td>\n",
       "      <td>5</td>\n",
       "      <td>4</td>\n",
       "      <td>4</td>\n",
       "      <td>6</td>\n",
       "      <td>0.0</td>\n",
       "    </tr>\n",
       "    <tr>\n",
       "      <th>3</th>\n",
       "      <td>2012</td>\n",
       "      <td>1</td>\n",
       "      <td>4</td>\n",
       "      <td>26</td>\n",
       "      <td>23</td>\n",
       "      <td>20</td>\n",
       "      <td>18</td>\n",
       "      <td>17</td>\n",
       "      <td>15</td>\n",
       "      <td>83</td>\n",
       "      <td>66</td>\n",
       "      <td>51</td>\n",
       "      <td>1015</td>\n",
       "      <td>1013</td>\n",
       "      <td>1010</td>\n",
       "      <td>4</td>\n",
       "      <td>3</td>\n",
       "      <td>1</td>\n",
       "      <td>3</td>\n",
       "      <td>0.0</td>\n",
       "    </tr>\n",
       "    <tr>\n",
       "      <th>4</th>\n",
       "      <td>2012</td>\n",
       "      <td>1</td>\n",
       "      <td>5</td>\n",
       "      <td>26</td>\n",
       "      <td>23</td>\n",
       "      <td>19</td>\n",
       "      <td>18</td>\n",
       "      <td>17</td>\n",
       "      <td>16</td>\n",
       "      <td>88</td>\n",
       "      <td>71</td>\n",
       "      <td>57</td>\n",
       "      <td>1016</td>\n",
       "      <td>1014</td>\n",
       "      <td>1012</td>\n",
       "      <td>4</td>\n",
       "      <td>3</td>\n",
       "      <td>1</td>\n",
       "      <td>3</td>\n",
       "      <td>0.0</td>\n",
       "    </tr>\n",
       "  </tbody>\n",
       "</table>\n",
       "</div>"
      ],
      "text/plain": [
       "   year  month  day  tempHigh  tempAvg  tempLow  DPHigh  DPAvg  DPLow  \\\n",
       "0  2012      1    1        28       23       19      18     14     10   \n",
       "1  2012      1    2        26       22       18      17     15     13   \n",
       "2  2012      1    3        27       22       17      20     17     16   \n",
       "3  2012      1    4        26       23       20      18     17     15   \n",
       "4  2012      1    5        26       23       19      18     17     16   \n",
       "\n",
       "   humidityHigh  humidityAvg  humidityLow  SLPHigh  SLPAvg  SLPLow  \\\n",
       "0            88           57           34     1015    1012    1010   \n",
       "1            88           65           47     1015    1013    1012   \n",
       "2            94           71           54     1014    1012    1010   \n",
       "3            83           66           51     1015    1013    1010   \n",
       "4            88           71           57     1016    1014    1012   \n",
       "\n",
       "   visibilityHigh  visibilityAvg  visibilityLow  windAvg  Rainfall  \n",
       "0               6              5              4        5       0.0  \n",
       "1               4              3              2        2       0.0  \n",
       "2               5              4              4        6       0.0  \n",
       "3               4              3              1        3       0.0  \n",
       "4               4              3              1        3       0.0  "
      ]
     },
     "execution_count": 5,
     "metadata": {},
     "output_type": "execute_result"
    }
   ],
   "source": [
    "dataset.head(5)"
   ]
  },
  {
   "cell_type": "code",
   "execution_count": 6,
   "metadata": {
    "_uuid": "5132eb43114bf99d5f857f459d0c9d2faffc9644"
   },
   "outputs": [
    {
     "data": {
      "text/html": [
       "<div>\n",
       "<style scoped>\n",
       "    .dataframe tbody tr th:only-of-type {\n",
       "        vertical-align: middle;\n",
       "    }\n",
       "\n",
       "    .dataframe tbody tr th {\n",
       "        vertical-align: top;\n",
       "    }\n",
       "\n",
       "    .dataframe thead th {\n",
       "        text-align: right;\n",
       "    }\n",
       "</style>\n",
       "<table border=\"1\" class=\"dataframe\">\n",
       "  <thead>\n",
       "    <tr style=\"text-align: right;\">\n",
       "      <th></th>\n",
       "      <th>year</th>\n",
       "      <th>month</th>\n",
       "      <th>day</th>\n",
       "      <th>tempHigh</th>\n",
       "      <th>tempAvg</th>\n",
       "      <th>tempLow</th>\n",
       "      <th>DPHigh</th>\n",
       "      <th>DPAvg</th>\n",
       "      <th>DPLow</th>\n",
       "      <th>humidityHigh</th>\n",
       "      <th>humidityAvg</th>\n",
       "      <th>humidityLow</th>\n",
       "      <th>SLPHigh</th>\n",
       "      <th>SLPAvg</th>\n",
       "      <th>SLPLow</th>\n",
       "      <th>visibilityHigh</th>\n",
       "      <th>visibilityAvg</th>\n",
       "      <th>visibilityLow</th>\n",
       "      <th>windAvg</th>\n",
       "      <th>Rainfall</th>\n",
       "    </tr>\n",
       "  </thead>\n",
       "  <tbody>\n",
       "    <tr>\n",
       "      <th>1369</th>\n",
       "      <td>2015</td>\n",
       "      <td>10</td>\n",
       "      <td>2</td>\n",
       "      <td>32</td>\n",
       "      <td>29</td>\n",
       "      <td>25</td>\n",
       "      <td>27</td>\n",
       "      <td>26</td>\n",
       "      <td>24</td>\n",
       "      <td>94</td>\n",
       "      <td>81</td>\n",
       "      <td>63</td>\n",
       "      <td>1012</td>\n",
       "      <td>1009</td>\n",
       "      <td>1007</td>\n",
       "      <td>5</td>\n",
       "      <td>5</td>\n",
       "      <td>5</td>\n",
       "      <td>5</td>\n",
       "      <td>0.51</td>\n",
       "    </tr>\n",
       "    <tr>\n",
       "      <th>1597</th>\n",
       "      <td>2016</td>\n",
       "      <td>5</td>\n",
       "      <td>17</td>\n",
       "      <td>32</td>\n",
       "      <td>30</td>\n",
       "      <td>28</td>\n",
       "      <td>28</td>\n",
       "      <td>27</td>\n",
       "      <td>26</td>\n",
       "      <td>89</td>\n",
       "      <td>78</td>\n",
       "      <td>68</td>\n",
       "      <td>1007</td>\n",
       "      <td>1005</td>\n",
       "      <td>1003</td>\n",
       "      <td>6</td>\n",
       "      <td>6</td>\n",
       "      <td>5</td>\n",
       "      <td>19</td>\n",
       "      <td>0.00</td>\n",
       "    </tr>\n",
       "    <tr>\n",
       "      <th>1319</th>\n",
       "      <td>2015</td>\n",
       "      <td>8</td>\n",
       "      <td>13</td>\n",
       "      <td>33</td>\n",
       "      <td>30</td>\n",
       "      <td>27</td>\n",
       "      <td>28</td>\n",
       "      <td>27</td>\n",
       "      <td>25</td>\n",
       "      <td>90</td>\n",
       "      <td>80</td>\n",
       "      <td>65</td>\n",
       "      <td>1007</td>\n",
       "      <td>1005</td>\n",
       "      <td>1003</td>\n",
       "      <td>14</td>\n",
       "      <td>6</td>\n",
       "      <td>5</td>\n",
       "      <td>8</td>\n",
       "      <td>0.00</td>\n",
       "    </tr>\n",
       "    <tr>\n",
       "      <th>1471</th>\n",
       "      <td>2016</td>\n",
       "      <td>1</td>\n",
       "      <td>12</td>\n",
       "      <td>26</td>\n",
       "      <td>20</td>\n",
       "      <td>14</td>\n",
       "      <td>15</td>\n",
       "      <td>13</td>\n",
       "      <td>9</td>\n",
       "      <td>88</td>\n",
       "      <td>62</td>\n",
       "      <td>31</td>\n",
       "      <td>1017</td>\n",
       "      <td>1014</td>\n",
       "      <td>1012</td>\n",
       "      <td>4</td>\n",
       "      <td>3</td>\n",
       "      <td>2</td>\n",
       "      <td>5</td>\n",
       "      <td>0.00</td>\n",
       "    </tr>\n",
       "    <tr>\n",
       "      <th>1942</th>\n",
       "      <td>2017</td>\n",
       "      <td>4</td>\n",
       "      <td>27</td>\n",
       "      <td>32</td>\n",
       "      <td>29</td>\n",
       "      <td>26</td>\n",
       "      <td>27</td>\n",
       "      <td>26</td>\n",
       "      <td>25</td>\n",
       "      <td>94</td>\n",
       "      <td>80</td>\n",
       "      <td>68</td>\n",
       "      <td>1011</td>\n",
       "      <td>1009</td>\n",
       "      <td>1007</td>\n",
       "      <td>5</td>\n",
       "      <td>4</td>\n",
       "      <td>3</td>\n",
       "      <td>16</td>\n",
       "      <td>0.00</td>\n",
       "    </tr>\n",
       "  </tbody>\n",
       "</table>\n",
       "</div>"
      ],
      "text/plain": [
       "      year  month  day  tempHigh  tempAvg  tempLow  DPHigh  DPAvg  DPLow  \\\n",
       "1369  2015     10    2        32       29       25      27     26     24   \n",
       "1597  2016      5   17        32       30       28      28     27     26   \n",
       "1319  2015      8   13        33       30       27      28     27     25   \n",
       "1471  2016      1   12        26       20       14      15     13      9   \n",
       "1942  2017      4   27        32       29       26      27     26     25   \n",
       "\n",
       "      humidityHigh  humidityAvg  humidityLow  SLPHigh  SLPAvg  SLPLow  \\\n",
       "1369            94           81           63     1012    1009    1007   \n",
       "1597            89           78           68     1007    1005    1003   \n",
       "1319            90           80           65     1007    1005    1003   \n",
       "1471            88           62           31     1017    1014    1012   \n",
       "1942            94           80           68     1011    1009    1007   \n",
       "\n",
       "      visibilityHigh  visibilityAvg  visibilityLow  windAvg  Rainfall  \n",
       "1369               5              5              5        5      0.51  \n",
       "1597               6              6              5       19      0.00  \n",
       "1319              14              6              5        8      0.00  \n",
       "1471               4              3              2        5      0.00  \n",
       "1942               5              4              3       16      0.00  "
      ]
     },
     "execution_count": 6,
     "metadata": {},
     "output_type": "execute_result"
    }
   ],
   "source": [
    "dataset.sample(5)"
   ]
  },
  {
   "cell_type": "markdown",
   "metadata": {
    "_uuid": "1113236bec2848d33c5bfe088ff0d03246b8b7ce"
   },
   "source": [
    "#### Description"
   ]
  },
  {
   "cell_type": "code",
   "execution_count": 7,
   "metadata": {
    "_uuid": "c31619815cb0dae5586985671fdc21110b39a821"
   },
   "outputs": [
    {
     "data": {
      "text/html": [
       "<div>\n",
       "<style scoped>\n",
       "    .dataframe tbody tr th:only-of-type {\n",
       "        vertical-align: middle;\n",
       "    }\n",
       "\n",
       "    .dataframe tbody tr th {\n",
       "        vertical-align: top;\n",
       "    }\n",
       "\n",
       "    .dataframe thead th {\n",
       "        text-align: right;\n",
       "    }\n",
       "</style>\n",
       "<table border=\"1\" class=\"dataframe\">\n",
       "  <thead>\n",
       "    <tr style=\"text-align: right;\">\n",
       "      <th></th>\n",
       "      <th>year</th>\n",
       "      <th>month</th>\n",
       "      <th>day</th>\n",
       "      <th>tempHigh</th>\n",
       "      <th>tempAvg</th>\n",
       "      <th>tempLow</th>\n",
       "      <th>DPHigh</th>\n",
       "      <th>DPAvg</th>\n",
       "      <th>DPLow</th>\n",
       "      <th>humidityHigh</th>\n",
       "      <th>humidityAvg</th>\n",
       "      <th>humidityLow</th>\n",
       "      <th>SLPHigh</th>\n",
       "      <th>SLPAvg</th>\n",
       "      <th>SLPLow</th>\n",
       "      <th>visibilityHigh</th>\n",
       "      <th>visibilityAvg</th>\n",
       "      <th>visibilityLow</th>\n",
       "      <th>windAvg</th>\n",
       "      <th>Rainfall</th>\n",
       "    </tr>\n",
       "  </thead>\n",
       "  <tbody>\n",
       "    <tr>\n",
       "      <th>count</th>\n",
       "      <td>2191.000000</td>\n",
       "      <td>2191.000000</td>\n",
       "      <td>2191.000000</td>\n",
       "      <td>2191.000000</td>\n",
       "      <td>2191.000000</td>\n",
       "      <td>2191.000000</td>\n",
       "      <td>2191.000000</td>\n",
       "      <td>2191.000000</td>\n",
       "      <td>2191.000000</td>\n",
       "      <td>2191.000000</td>\n",
       "      <td>2191.000000</td>\n",
       "      <td>2191.000000</td>\n",
       "      <td>2191.000000</td>\n",
       "      <td>2191.000000</td>\n",
       "      <td>2191.000000</td>\n",
       "      <td>2191.000000</td>\n",
       "      <td>2191.000000</td>\n",
       "      <td>2191.000000</td>\n",
       "      <td>2191.000000</td>\n",
       "      <td>2191.000000</td>\n",
       "    </tr>\n",
       "    <tr>\n",
       "      <th>mean</th>\n",
       "      <td>2014.500685</td>\n",
       "      <td>6.524418</td>\n",
       "      <td>15.726609</td>\n",
       "      <td>30.172980</td>\n",
       "      <td>26.296212</td>\n",
       "      <td>22.555454</td>\n",
       "      <td>23.656778</td>\n",
       "      <td>21.920128</td>\n",
       "      <td>19.727978</td>\n",
       "      <td>91.902784</td>\n",
       "      <td>74.968964</td>\n",
       "      <td>54.916933</td>\n",
       "      <td>1009.896851</td>\n",
       "      <td>1007.621634</td>\n",
       "      <td>1005.516203</td>\n",
       "      <td>5.339115</td>\n",
       "      <td>4.487905</td>\n",
       "      <td>2.960749</td>\n",
       "      <td>8.543587</td>\n",
       "      <td>2.853241</td>\n",
       "    </tr>\n",
       "    <tr>\n",
       "      <th>std</th>\n",
       "      <td>1.708126</td>\n",
       "      <td>3.448542</td>\n",
       "      <td>8.800821</td>\n",
       "      <td>2.926921</td>\n",
       "      <td>3.392764</td>\n",
       "      <td>4.288724</td>\n",
       "      <td>4.070043</td>\n",
       "      <td>4.705822</td>\n",
       "      <td>5.707636</td>\n",
       "      <td>5.798138</td>\n",
       "      <td>10.539248</td>\n",
       "      <td>16.924232</td>\n",
       "      <td>5.234182</td>\n",
       "      <td>4.941176</td>\n",
       "      <td>5.010271</td>\n",
       "      <td>2.019883</td>\n",
       "      <td>1.043228</td>\n",
       "      <td>1.507459</td>\n",
       "      <td>4.826184</td>\n",
       "      <td>10.062828</td>\n",
       "    </tr>\n",
       "    <tr>\n",
       "      <th>min</th>\n",
       "      <td>2012.000000</td>\n",
       "      <td>1.000000</td>\n",
       "      <td>1.000000</td>\n",
       "      <td>14.000000</td>\n",
       "      <td>13.000000</td>\n",
       "      <td>9.000000</td>\n",
       "      <td>10.000000</td>\n",
       "      <td>7.000000</td>\n",
       "      <td>0.000000</td>\n",
       "      <td>48.000000</td>\n",
       "      <td>33.000000</td>\n",
       "      <td>4.000000</td>\n",
       "      <td>996.000000</td>\n",
       "      <td>991.000000</td>\n",
       "      <td>978.000000</td>\n",
       "      <td>2.000000</td>\n",
       "      <td>1.000000</td>\n",
       "      <td>0.000000</td>\n",
       "      <td>0.000000</td>\n",
       "      <td>0.000000</td>\n",
       "    </tr>\n",
       "    <tr>\n",
       "      <th>25%</th>\n",
       "      <td>2013.000000</td>\n",
       "      <td>4.000000</td>\n",
       "      <td>8.000000</td>\n",
       "      <td>28.000000</td>\n",
       "      <td>24.000000</td>\n",
       "      <td>19.000000</td>\n",
       "      <td>21.000000</td>\n",
       "      <td>18.000000</td>\n",
       "      <td>16.000000</td>\n",
       "      <td>89.000000</td>\n",
       "      <td>70.000000</td>\n",
       "      <td>44.000000</td>\n",
       "      <td>1006.000000</td>\n",
       "      <td>1004.000000</td>\n",
       "      <td>1002.000000</td>\n",
       "      <td>5.000000</td>\n",
       "      <td>4.000000</td>\n",
       "      <td>2.000000</td>\n",
       "      <td>5.000000</td>\n",
       "      <td>0.000000</td>\n",
       "    </tr>\n",
       "    <tr>\n",
       "      <th>50%</th>\n",
       "      <td>2015.000000</td>\n",
       "      <td>7.000000</td>\n",
       "      <td>16.000000</td>\n",
       "      <td>31.000000</td>\n",
       "      <td>27.000000</td>\n",
       "      <td>24.000000</td>\n",
       "      <td>26.000000</td>\n",
       "      <td>24.000000</td>\n",
       "      <td>22.000000</td>\n",
       "      <td>94.000000</td>\n",
       "      <td>76.000000</td>\n",
       "      <td>58.000000</td>\n",
       "      <td>1010.000000</td>\n",
       "      <td>1008.000000</td>\n",
       "      <td>1006.000000</td>\n",
       "      <td>5.000000</td>\n",
       "      <td>5.000000</td>\n",
       "      <td>3.000000</td>\n",
       "      <td>8.000000</td>\n",
       "      <td>0.000000</td>\n",
       "    </tr>\n",
       "    <tr>\n",
       "      <th>75%</th>\n",
       "      <td>2016.000000</td>\n",
       "      <td>10.000000</td>\n",
       "      <td>23.000000</td>\n",
       "      <td>32.000000</td>\n",
       "      <td>29.000000</td>\n",
       "      <td>26.000000</td>\n",
       "      <td>27.000000</td>\n",
       "      <td>26.000000</td>\n",
       "      <td>24.000000</td>\n",
       "      <td>94.000000</td>\n",
       "      <td>82.000000</td>\n",
       "      <td>66.000000</td>\n",
       "      <td>1014.000000</td>\n",
       "      <td>1012.000000</td>\n",
       "      <td>1010.000000</td>\n",
       "      <td>6.000000</td>\n",
       "      <td>5.000000</td>\n",
       "      <td>4.000000</td>\n",
       "      <td>11.000000</td>\n",
       "      <td>0.510000</td>\n",
       "    </tr>\n",
       "    <tr>\n",
       "      <th>max</th>\n",
       "      <td>2017.000000</td>\n",
       "      <td>12.000000</td>\n",
       "      <td>31.000000</td>\n",
       "      <td>51.000000</td>\n",
       "      <td>39.000000</td>\n",
       "      <td>29.000000</td>\n",
       "      <td>32.000000</td>\n",
       "      <td>28.000000</td>\n",
       "      <td>27.000000</td>\n",
       "      <td>100.000000</td>\n",
       "      <td>99.000000</td>\n",
       "      <td>94.000000</td>\n",
       "      <td>1061.000000</td>\n",
       "      <td>1018.000000</td>\n",
       "      <td>1017.000000</td>\n",
       "      <td>27.000000</td>\n",
       "      <td>7.000000</td>\n",
       "      <td>6.000000</td>\n",
       "      <td>37.000000</td>\n",
       "      <td>151.890000</td>\n",
       "    </tr>\n",
       "  </tbody>\n",
       "</table>\n",
       "</div>"
      ],
      "text/plain": [
       "              year        month          day     tempHigh      tempAvg  \\\n",
       "count  2191.000000  2191.000000  2191.000000  2191.000000  2191.000000   \n",
       "mean   2014.500685     6.524418    15.726609    30.172980    26.296212   \n",
       "std       1.708126     3.448542     8.800821     2.926921     3.392764   \n",
       "min    2012.000000     1.000000     1.000000    14.000000    13.000000   \n",
       "25%    2013.000000     4.000000     8.000000    28.000000    24.000000   \n",
       "50%    2015.000000     7.000000    16.000000    31.000000    27.000000   \n",
       "75%    2016.000000    10.000000    23.000000    32.000000    29.000000   \n",
       "max    2017.000000    12.000000    31.000000    51.000000    39.000000   \n",
       "\n",
       "           tempLow       DPHigh        DPAvg        DPLow  humidityHigh  \\\n",
       "count  2191.000000  2191.000000  2191.000000  2191.000000   2191.000000   \n",
       "mean     22.555454    23.656778    21.920128    19.727978     91.902784   \n",
       "std       4.288724     4.070043     4.705822     5.707636      5.798138   \n",
       "min       9.000000    10.000000     7.000000     0.000000     48.000000   \n",
       "25%      19.000000    21.000000    18.000000    16.000000     89.000000   \n",
       "50%      24.000000    26.000000    24.000000    22.000000     94.000000   \n",
       "75%      26.000000    27.000000    26.000000    24.000000     94.000000   \n",
       "max      29.000000    32.000000    28.000000    27.000000    100.000000   \n",
       "\n",
       "       humidityAvg  humidityLow      SLPHigh       SLPAvg       SLPLow  \\\n",
       "count  2191.000000  2191.000000  2191.000000  2191.000000  2191.000000   \n",
       "mean     74.968964    54.916933  1009.896851  1007.621634  1005.516203   \n",
       "std      10.539248    16.924232     5.234182     4.941176     5.010271   \n",
       "min      33.000000     4.000000   996.000000   991.000000   978.000000   \n",
       "25%      70.000000    44.000000  1006.000000  1004.000000  1002.000000   \n",
       "50%      76.000000    58.000000  1010.000000  1008.000000  1006.000000   \n",
       "75%      82.000000    66.000000  1014.000000  1012.000000  1010.000000   \n",
       "max      99.000000    94.000000  1061.000000  1018.000000  1017.000000   \n",
       "\n",
       "       visibilityHigh  visibilityAvg  visibilityLow      windAvg     Rainfall  \n",
       "count     2191.000000    2191.000000    2191.000000  2191.000000  2191.000000  \n",
       "mean         5.339115       4.487905       2.960749     8.543587     2.853241  \n",
       "std          2.019883       1.043228       1.507459     4.826184    10.062828  \n",
       "min          2.000000       1.000000       0.000000     0.000000     0.000000  \n",
       "25%          5.000000       4.000000       2.000000     5.000000     0.000000  \n",
       "50%          5.000000       5.000000       3.000000     8.000000     0.000000  \n",
       "75%          6.000000       5.000000       4.000000    11.000000     0.510000  \n",
       "max         27.000000       7.000000       6.000000    37.000000   151.890000  "
      ]
     },
     "execution_count": 7,
     "metadata": {},
     "output_type": "execute_result"
    }
   ],
   "source": [
    "dataset.describe()"
   ]
  },
  {
   "cell_type": "code",
   "execution_count": 8,
   "metadata": {
    "_uuid": "718b82039841c137ab7e08a6e79e264643134642"
   },
   "outputs": [
    {
     "name": "stdout",
     "output_type": "stream",
     "text": [
      "<class 'pandas.core.frame.DataFrame'>\n",
      "RangeIndex: 2191 entries, 0 to 2190\n",
      "Data columns (total 20 columns):\n",
      " #   Column          Non-Null Count  Dtype  \n",
      "---  ------          --------------  -----  \n",
      " 0   year            2191 non-null   int64  \n",
      " 1   month           2191 non-null   int64  \n",
      " 2   day             2191 non-null   int64  \n",
      " 3   tempHigh        2191 non-null   int64  \n",
      " 4   tempAvg         2191 non-null   int64  \n",
      " 5   tempLow         2191 non-null   int64  \n",
      " 6   DPHigh          2191 non-null   int64  \n",
      " 7   DPAvg           2191 non-null   int64  \n",
      " 8   DPLow           2191 non-null   int64  \n",
      " 9   humidityHigh    2191 non-null   int64  \n",
      " 10  humidityAvg     2191 non-null   int64  \n",
      " 11  humidityLow     2191 non-null   int64  \n",
      " 12  SLPHigh         2191 non-null   int64  \n",
      " 13  SLPAvg          2191 non-null   int64  \n",
      " 14  SLPLow          2191 non-null   int64  \n",
      " 15  visibilityHigh  2191 non-null   int64  \n",
      " 16  visibilityAvg   2191 non-null   int64  \n",
      " 17  visibilityLow   2191 non-null   int64  \n",
      " 18  windAvg         2191 non-null   int64  \n",
      " 19  Rainfall        2191 non-null   float64\n",
      "dtypes: float64(1), int64(19)\n",
      "memory usage: 342.5 KB\n"
     ]
    }
   ],
   "source": [
    "dataset.info()"
   ]
  },
  {
   "cell_type": "markdown",
   "metadata": {
    "_uuid": "99d7182ca186d37f63b1fc433fe74ad5e2bc7d2f"
   },
   "source": [
    "###Luckily, we have no missing values"
   ]
  },
  {
   "cell_type": "markdown",
   "metadata": {
    "_uuid": "85b59fefde7c5ecdb50e3b8da0cb719f4e14630f"
   },
   "source": [
    "#### Let's understand our columns better:"
   ]
  },
  {
   "cell_type": "markdown",
   "metadata": {
    "_uuid": "6a970312b67b588610a8579ecc2ba4bac0fcee04"
   },
   "source": [
    "#### Analysing the 'target' variable"
   ]
  },
  {
   "cell_type": "code",
   "execution_count": 9,
   "metadata": {
    "_uuid": "b883243919bd382193ed15e2a90f9b522bf6f1f7"
   },
   "outputs": [
    {
     "data": {
      "text/plain": [
       "count    2191.000000\n",
       "mean        2.853241\n",
       "std        10.062828\n",
       "min         0.000000\n",
       "25%         0.000000\n",
       "50%         0.000000\n",
       "75%         0.510000\n",
       "max       151.890000\n",
       "Name: Rainfall, dtype: float64"
      ]
     },
     "execution_count": 9,
     "metadata": {},
     "output_type": "execute_result"
    }
   ],
   "source": [
    "dataset[\"Rainfall\"].describe()"
   ]
  },
  {
   "cell_type": "code",
   "execution_count": 10,
   "metadata": {
    "_uuid": "9c107b83e0148914826282bf1f0ab28505d577ab"
   },
   "outputs": [
    {
     "data": {
      "text/plain": [
       "array([  0.  ,   5.08,  23.88,  11.94,   6.1 ,   1.02,  17.02,  48.01,\n",
       "         3.05,  21.08,  33.02,   2.03,   0.25,   7.11,  58.93,  30.99,\n",
       "         4.06,  23.11,  49.02,  80.01,   9.91,  25.91,   0.51,   7.87,\n",
       "         8.89,  71.88,  13.97,   0.76,  50.04,  24.89, 151.89,  97.03,\n",
       "        20.07,  27.94,  40.89,  35.05,  12.95,  18.03,  19.05,  26.92,\n",
       "        16.  ,  10.92, 102.11,  14.99,  54.1 , 104.9 ,  38.1 ,  36.07,\n",
       "        41.91,  39.88,  29.97,  72.9 ,  34.04, 100.08,  28.96,  73.91,\n",
       "        37.08,  62.99,  71.12,  22.1 ,  39.12,  53.09,  87.88,  61.98,\n",
       "       116.08,  46.99,  55.12])"
      ]
     },
     "execution_count": 10,
     "metadata": {},
     "output_type": "execute_result"
    }
   ],
   "source": [
    "dataset[\"Rainfall\"].unique()"
   ]
  },
  {
   "cell_type": "markdown",
   "metadata": {
    "_uuid": "3ae0dfa26e2daf4cfc8e1c6f3b5008d0dab22ec0"
   },
   "source": [
    "### Checking correlation between columns"
   ]
  },
  {
   "cell_type": "code",
   "execution_count": 11,
   "metadata": {
    "_uuid": "3059188d3874be2e0c80e13655609ac6a6fc644f"
   },
   "outputs": [
    {
     "name": "stdout",
     "output_type": "stream",
     "text": [
      "Rainfall          1.000000\n",
      "humidityAvg       0.311106\n",
      "humidityLow       0.296891\n",
      "SLPAvg            0.256456\n",
      "SLPLow            0.252499\n",
      "SLPHigh           0.248045\n",
      "humidityHigh      0.204248\n",
      "DPAvg             0.182082\n",
      "DPHigh            0.181716\n",
      "DPLow             0.174783\n",
      "windAvg           0.168254\n",
      "tempLow           0.135812\n",
      "visibilityLow     0.088016\n",
      "tempAvg           0.071663\n",
      "tempHigh          0.045442\n",
      "month             0.029664\n",
      "visibilityAvg     0.026717\n",
      "visibilityHigh    0.010814\n",
      "day               0.006710\n",
      "year              0.005712\n",
      "Name: Rainfall, dtype: float64\n"
     ]
    }
   ],
   "source": [
    "print(dataset.corr()[\"Rainfall\"].abs().sort_values(ascending=False))"
   ]
  },
  {
   "cell_type": "code",
   "execution_count": 12,
   "metadata": {},
   "outputs": [],
   "source": [
    "#plt.figure(figsize = (9, 5)) \n",
    "#dataset['Rainfall'].plot(kind =\"hist\") \n"
   ]
  },
  {
   "cell_type": "markdown",
   "metadata": {
    "_uuid": "40b6c0a9d03bcab78b87bd41c7df3fe1b930547a"
   },
   "source": [
    "## Exploratory Data Analysis (EDA)"
   ]
  },
  {
   "cell_type": "markdown",
   "metadata": {
    "_uuid": "41da6ba94903ad6ee64b1ba6a1462815ae603536"
   },
   "source": [
    "### First, analysing the target variable:"
   ]
  },
  {
   "cell_type": "code",
   "execution_count": 13,
   "metadata": {
    "_uuid": "29aa23ccb8e6438688e16346b3474f4cc03bae13"
   },
   "outputs": [
    {
     "name": "stdout",
     "output_type": "stream",
     "text": [
      "0.00      1609\n",
      "1.02        74\n",
      "2.03        72\n",
      "3.05        42\n",
      "0.51        39\n",
      "          ... \n",
      "100.08       1\n",
      "71.88        1\n",
      "72.90        1\n",
      "104.90       1\n",
      "71.12        1\n",
      "Name: Rainfall, Length: 67, dtype: int64\n"
     ]
    },
    {
     "data": {
      "image/png": "[encoded data removed]",
      "text/plain": [
       "<Figure size 432x288 with 1 Axes>"
      ]
     },
     "metadata": {
      "needs_background": "light"
     },
     "output_type": "display_data"
    }
   ],
   "source": [
    "y = dataset[\"Rainfall\"]\n",
    "sns.countplot(y)\n",
    "target_temp = dataset.Rainfall.value_counts()\n",
    "plt.xlabel('DAY')\n",
    "plt.ylabel('SLP_AVG')\n",
    "print(target_temp)"
   ]
  },
  {
   "cell_type": "code",
   "execution_count": 14,
   "metadata": {
    "_uuid": "07a3fb2f44b82360d0393377029851655bcdcd31"
   },
   "outputs": [
    {
     "data": {
      "text/plain": [
       "array([2012, 2013, 2014, 2015, 2016, 2017], dtype=int64)"
      ]
     },
     "execution_count": 14,
     "metadata": {},
     "output_type": "execute_result"
    }
   ],
   "source": [
    "dataset[\"year\"].unique()"
   ]
  },
  {
   "cell_type": "code",
   "execution_count": 15,
   "metadata": {
    "_uuid": "5d10e6c167251e6d3b1b82a06159da234eeef721"
   },
   "outputs": [
    {
     "data": {
      "text/plain": [
       "<matplotlib.axes._subplots.AxesSubplot at 0x23b38086188>"
      ]
     },
     "execution_count": 15,
     "metadata": {},
     "output_type": "execute_result"
    },
    {
     "data": {
      "image/png": "[encoded data removed]",
      "text/plain": [
       "<Figure size 432x288 with 1 Axes>"
      ]
     },
     "metadata": {
      "needs_background": "light"
     },
     "output_type": "display_data"
    }
   ],
   "source": [
    "sns.barplot(dataset[\"year\"],y)"
   ]
  },
  {
   "cell_type": "code",
   "execution_count": 16,
   "metadata": {
    "_uuid": "7c795d4a86ee05d58e10a412add90065afbd4a70"
   },
   "outputs": [
    {
     "data": {
      "text/plain": [
       "array([ 1,  2,  3,  4,  5,  6,  7,  8,  9, 10, 11, 12, 13, 14, 15, 16, 17,\n",
       "       18, 19, 20, 21, 22, 23, 24, 25, 26, 27, 28, 30, 31, 29],\n",
       "      dtype=int64)"
      ]
     },
     "execution_count": 16,
     "metadata": {},
     "output_type": "execute_result"
    }
   ],
   "source": [
    "dataset[\"day\"].unique()"
   ]
  },
  {
   "cell_type": "code",
   "execution_count": 17,
   "metadata": {
    "_uuid": "56d6ed2b3d8d20a61814980cd459502b452d14c1"
   },
   "outputs": [
    {
     "data": {
      "text/plain": [
       "<matplotlib.axes._subplots.AxesSubplot at 0x23b381a3608>"
      ]
     },
     "execution_count": 17,
     "metadata": {},
     "output_type": "execute_result"
    },
    {
     "data": {
      "image/png": "[encoded data removed]",
      "text/plain": [
       "<Figure size 432x288 with 1 Axes>"
      ]
     },
     "metadata": {
      "needs_background": "light"
     },
     "output_type": "display_data"
    }
   ],
   "source": [
    "sns.barplot(dataset[\"day\"],y)"
   ]
  },
  {
   "cell_type": "code",
   "execution_count": 18,
   "metadata": {
    "_uuid": "55f9ca01da5294b5404f3eb14d202ae90e0ea1bf"
   },
   "outputs": [
    {
     "data": {
      "text/plain": [
       "count    2191.000000\n",
       "mean        6.524418\n",
       "std         3.448542\n",
       "min         1.000000\n",
       "25%         4.000000\n",
       "50%         7.000000\n",
       "75%        10.000000\n",
       "max        12.000000\n",
       "Name: month, dtype: float64"
      ]
     },
     "execution_count": 18,
     "metadata": {},
     "output_type": "execute_result"
    }
   ],
   "source": [
    "dataset[\"month\"].describe()"
   ]
  },
  {
   "cell_type": "code",
   "execution_count": 19,
   "metadata": {
    "_uuid": "43d491d311a8b96a6a9cbecbeff87f577584cd3a"
   },
   "outputs": [
    {
     "data": {
      "text/plain": [
       "array([ 1,  2,  3,  4,  5,  6,  7,  8,  9, 10, 11, 12], dtype=int64)"
      ]
     },
     "execution_count": 19,
     "metadata": {},
     "output_type": "execute_result"
    }
   ],
   "source": [
    "dataset[\"month\"].unique()"
   ]
  },
  {
   "cell_type": "code",
   "execution_count": 20,
   "metadata": {
    "_uuid": "90509dcee97df858115131c771e69347a044aafb"
   },
   "outputs": [
    {
     "data": {
      "text/plain": [
       "<matplotlib.axes._subplots.AxesSubplot at 0x23b382fdd48>"
      ]
     },
     "execution_count": 20,
     "metadata": {},
     "output_type": "execute_result"
    },
    {
     "data": {
      "image/png": "[encoded data removed]",
      "text/plain": [
       "<Figure size 432x288 with 1 Axes>"
      ]
     },
     "metadata": {
      "needs_background": "light"
     },
     "output_type": "display_data"
    }
   ],
   "source": [
    "sns.barplot(dataset[\"month\"],y)"
   ]
  },
  {
   "cell_type": "code",
   "execution_count": 21,
   "metadata": {
    "_uuid": "53dd2985ea50aa6f9c9e5931050b4ef7b7aa609d"
   },
   "outputs": [
    {
     "data": {
      "text/plain": [
       "array([23, 22, 21, 20, 18, 19, 13, 24, 26, 25, 27, 28, 30, 29, 31, 16, 17,\n",
       "       14, 33, 32, 39], dtype=int64)"
      ]
     },
     "execution_count": 21,
     "metadata": {},
     "output_type": "execute_result"
    }
   ],
   "source": [
    "dataset[\"tempAvg\"].unique()"
   ]
  },
  {
   "cell_type": "code",
   "execution_count": 22,
   "metadata": {
    "_uuid": "237a60a2a11dab86e50cafcee4ec47df752876a1"
   },
   "outputs": [
    {
     "data": {
      "text/plain": [
       "<matplotlib.axes._subplots.AxesSubplot at 0x23b383b1a88>"
      ]
     },
     "execution_count": 22,
     "metadata": {},
     "output_type": "execute_result"
    },
    {
     "data": {
      "image/png": "[encoded data removed]",
      "text/plain": [
       "<Figure size 432x288 with 1 Axes>"
      ]
     },
     "metadata": {
      "needs_background": "light"
     },
     "output_type": "display_data"
    }
   ],
   "source": [
    "sns.barplot(dataset[\"tempAvg\"],y)"
   ]
  },
  {
   "cell_type": "code",
   "execution_count": 23,
   "metadata": {
    "_uuid": "e1e148d25967c36d2bb5fbfb802c70dae93f8a4f"
   },
   "outputs": [
    {
     "data": {
      "text/plain": [
       "array([57, 65, 71, 66, 75, 73, 79, 68, 74, 72, 63, 58, 87, 82, 53, 60, 61,\n",
       "       91, 45, 43, 46, 42, 51, 56, 62, 44, 40, 37, 55, 49, 77, 64, 81, 84,\n",
       "       83, 76, 41, 50, 59, 67, 78, 80, 69, 86, 90, 92, 85, 96, 95, 98, 89,\n",
       "       88, 93, 94, 70, 52, 48, 47, 97, 54, 39, 36, 34, 33, 99, 38],\n",
       "      dtype=int64)"
      ]
     },
     "execution_count": 23,
     "metadata": {},
     "output_type": "execute_result"
    }
   ],
   "source": [
    "dataset[\"humidityAvg\"].unique()"
   ]
  },
  {
   "cell_type": "code",
   "execution_count": 24,
   "metadata": {
    "_uuid": "beaa943c166b3c550fe357e6e937dbda46b707c9"
   },
   "outputs": [
    {
     "data": {
      "text/plain": [
       "<matplotlib.axes._subplots.AxesSubplot at 0x23b32857988>"
      ]
     },
     "execution_count": 24,
     "metadata": {},
     "output_type": "execute_result"
    },
    {
     "data": {
      "image/png": "[encoded data removed]",
      "text/plain": [
       "<Figure size 432x288 with 1 Axes>"
      ]
     },
     "metadata": {
      "needs_background": "light"
     },
     "output_type": "display_data"
    }
   ],
   "source": [
    "sns.barplot(dataset[\"humidityAvg\"],y)"
   ]
  },
  {
   "cell_type": "code",
   "execution_count": 25,
   "metadata": {
    "_uuid": "829fcda5b63e1b9f7ecb7762e8ca617166533aca"
   },
   "outputs": [],
   "source": [
    "from sklearn.model_selection import train_test_split\n",
    "\n",
    "predictors = dataset.drop([\"year\",\"Rainfall\",\"humidityLow\",\"tempHigh\",\"SLPAvg\",\"SLPLow\",\"SLPHigh\",\"visibilityHigh\",\"visibilityAvg\",\n",
    "                         \"visibilityLow\",\"tempLow\",\"windAvg\",\"DPLow\",\"DPHigh\",\"DPAvg\",\n",
    "                          \"humidityHigh\",\"SLPHigh\",\"SLPLow\",\"SLPAvg\",\"humidityLow\"],axis=1)\n",
    "\n",
    "\n",
    "target = dataset[\"Rainfall\"]\n",
    "\n",
    "X_train,X_test,Y_train,Y_test = train_test_split(predictors,target,test_size=0.20,random_state=0)"
   ]
  },
  {
   "cell_type": "code",
   "execution_count": 26,
   "metadata": {},
   "outputs": [
    {
     "data": {
      "text/html": [
       "<div>\n",
       "<style scoped>\n",
       "    .dataframe tbody tr th:only-of-type {\n",
       "        vertical-align: middle;\n",
       "    }\n",
       "\n",
       "    .dataframe tbody tr th {\n",
       "        vertical-align: top;\n",
       "    }\n",
       "\n",
       "    .dataframe thead th {\n",
       "        text-align: right;\n",
       "    }\n",
       "</style>\n",
       "<table border=\"1\" class=\"dataframe\">\n",
       "  <thead>\n",
       "    <tr style=\"text-align: right;\">\n",
       "      <th></th>\n",
       "      <th>month</th>\n",
       "      <th>day</th>\n",
       "      <th>tempAvg</th>\n",
       "      <th>humidityAvg</th>\n",
       "    </tr>\n",
       "  </thead>\n",
       "  <tbody>\n",
       "    <tr>\n",
       "      <th>0</th>\n",
       "      <td>1</td>\n",
       "      <td>1</td>\n",
       "      <td>23</td>\n",
       "      <td>57</td>\n",
       "    </tr>\n",
       "    <tr>\n",
       "      <th>1</th>\n",
       "      <td>1</td>\n",
       "      <td>2</td>\n",
       "      <td>22</td>\n",
       "      <td>65</td>\n",
       "    </tr>\n",
       "    <tr>\n",
       "      <th>2</th>\n",
       "      <td>1</td>\n",
       "      <td>3</td>\n",
       "      <td>22</td>\n",
       "      <td>71</td>\n",
       "    </tr>\n",
       "    <tr>\n",
       "      <th>3</th>\n",
       "      <td>1</td>\n",
       "      <td>4</td>\n",
       "      <td>23</td>\n",
       "      <td>66</td>\n",
       "    </tr>\n",
       "    <tr>\n",
       "      <th>4</th>\n",
       "      <td>1</td>\n",
       "      <td>5</td>\n",
       "      <td>23</td>\n",
       "      <td>71</td>\n",
       "    </tr>\n",
       "    <tr>\n",
       "      <th>...</th>\n",
       "      <td>...</td>\n",
       "      <td>...</td>\n",
       "      <td>...</td>\n",
       "      <td>...</td>\n",
       "    </tr>\n",
       "    <tr>\n",
       "      <th>2186</th>\n",
       "      <td>12</td>\n",
       "      <td>27</td>\n",
       "      <td>23</td>\n",
       "      <td>71</td>\n",
       "    </tr>\n",
       "    <tr>\n",
       "      <th>2187</th>\n",
       "      <td>12</td>\n",
       "      <td>28</td>\n",
       "      <td>22</td>\n",
       "      <td>68</td>\n",
       "    </tr>\n",
       "    <tr>\n",
       "      <th>2188</th>\n",
       "      <td>12</td>\n",
       "      <td>29</td>\n",
       "      <td>23</td>\n",
       "      <td>66</td>\n",
       "    </tr>\n",
       "    <tr>\n",
       "      <th>2189</th>\n",
       "      <td>12</td>\n",
       "      <td>30</td>\n",
       "      <td>23</td>\n",
       "      <td>62</td>\n",
       "    </tr>\n",
       "    <tr>\n",
       "      <th>2190</th>\n",
       "      <td>12</td>\n",
       "      <td>31</td>\n",
       "      <td>24</td>\n",
       "      <td>68</td>\n",
       "    </tr>\n",
       "  </tbody>\n",
       "</table>\n",
       "<p>2191 rows × 4 columns</p>\n",
       "</div>"
      ],
      "text/plain": [
       "      month  day  tempAvg  humidityAvg\n",
       "0         1    1       23           57\n",
       "1         1    2       22           65\n",
       "2         1    3       22           71\n",
       "3         1    4       23           66\n",
       "4         1    5       23           71\n",
       "...     ...  ...      ...          ...\n",
       "2186     12   27       23           71\n",
       "2187     12   28       22           68\n",
       "2188     12   29       23           66\n",
       "2189     12   30       23           62\n",
       "2190     12   31       24           68\n",
       "\n",
       "[2191 rows x 4 columns]"
      ]
     },
     "execution_count": 26,
     "metadata": {},
     "output_type": "execute_result"
    }
   ],
   "source": [
    "predictors"
   ]
  },
  {
   "cell_type": "code",
   "execution_count": 27,
   "metadata": {
    "_uuid": "7a74842015c2f193d16caa4fa25e2c4cbf1940f8"
   },
   "outputs": [
    {
     "data": {
      "text/plain": [
       "(1752, 4)"
      ]
     },
     "execution_count": 27,
     "metadata": {},
     "output_type": "execute_result"
    }
   ],
   "source": [
    "X_train.shape"
   ]
  },
  {
   "cell_type": "code",
   "execution_count": 28,
   "metadata": {
    "_uuid": "1f777652df4521deb877dac4d5d635d8cd35b279"
   },
   "outputs": [
    {
     "data": {
      "text/plain": [
       "(439, 4)"
      ]
     },
     "execution_count": 28,
     "metadata": {},
     "output_type": "execute_result"
    }
   ],
   "source": [
    "X_test.shape"
   ]
  },
  {
   "cell_type": "code",
   "execution_count": 29,
   "metadata": {
    "_uuid": "028c968a076840657faf7dbc3bfee9fe7b5ca45a"
   },
   "outputs": [
    {
     "data": {
      "text/plain": [
       "(1752,)"
      ]
     },
     "execution_count": 29,
     "metadata": {},
     "output_type": "execute_result"
    }
   ],
   "source": [
    "Y_train.shape"
   ]
  },
  {
   "cell_type": "code",
   "execution_count": 30,
   "metadata": {
    "_uuid": "eb6857dfc18da52dae38bec95d20106f39136e61"
   },
   "outputs": [
    {
     "data": {
      "text/plain": [
       "(439,)"
      ]
     },
     "execution_count": 30,
     "metadata": {},
     "output_type": "execute_result"
    }
   ],
   "source": [
    "Y_test.shape"
   ]
  },
  {
   "cell_type": "markdown",
   "metadata": {
    "_uuid": "3b4f28488a92917f26e9876c1880295ec9c077ed"
   },
   "source": [
    "\n",
    "## V. Model Fitting"
   ]
  },
  {
   "cell_type": "code",
   "execution_count": 31,
   "metadata": {
    "_uuid": "fe363c1be8335a48a4444660db5fa6bd0a24b71a"
   },
   "outputs": [],
   "source": [
    "from sklearn.metrics import accuracy_score"
   ]
  },
  {
   "cell_type": "markdown",
   "metadata": {
    "_uuid": "afa6b322cbc225f3353bd295aea24fe5fbbb78fe"
   },
   "source": [
    "### Support Vector Regression"
   ]
  },
  {
   "cell_type": "code",
   "execution_count": 32,
   "metadata": {
    "_uuid": "9aea2f597203ccf38cd0d67ae58bff6e163dea1c"
   },
   "outputs": [],
   "source": [
    "from sklearn.svm import SVR\n",
    "\n",
    "sr = SVR(kernel='rbf')\n",
    "\n",
    "sr.fit(X_train,Y_train)\n",
    "\n",
    "Y_pred_sr = sr.predict(X_test)"
   ]
  },
  {
   "cell_type": "code",
   "execution_count": 33,
   "metadata": {
    "_uuid": "58fb833d1c74355ebdafe926968632942f377421"
   },
   "outputs": [
    {
     "data": {
      "text/plain": [
       "(439,)"
      ]
     },
     "execution_count": 33,
     "metadata": {},
     "output_type": "execute_result"
    }
   ],
   "source": [
    "Y_pred_sr.shape"
   ]
  },
  {
   "cell_type": "code",
   "execution_count": 34,
   "metadata": {
    "_uuid": "ee4cba838316adf863f8daf131d36a970d36b839"
   },
   "outputs": [
    {
     "name": "stdout",
     "output_type": "stream",
     "text": [
      "The accuracy score achieved using support vector Regression is: -0.03065774010353994 %\n"
     ]
    }
   ],
   "source": [
    "score_sr = sr.score(X_test,Y_test)\n",
    "\n",
    "print(\"The accuracy score achieved using support vector Regression is: \"+str(score_sr)+\" %\")"
   ]
  },
  {
   "cell_type": "code",
   "execution_count": 35,
   "metadata": {},
   "outputs": [
    {
     "name": "stderr",
     "output_type": "stream",
     "text": [
      "No handles with labels found to put in legend.\n"
     ]
    },
    {
     "data": {
      "image/png": "[encoded data removed]",
      "text/plain": [
       "<Figure size 432x288 with 1 Axes>"
      ]
     },
     "metadata": {
      "needs_background": "light"
     },
     "output_type": "display_data"
    }
   ],
   "source": [
    "plt.plot(X_test, Y_test, label='')\n",
    "\n",
    "plt.plot(X_test, Y_pred_sr, 'co', label='')\n",
    "\n",
    "plt.xlabel('HUMIDITY_LOW')\n",
    "plt.ylabel('HUMIDITY_HIGH')\n",
    "plt.legend()\n",
    "plt.savefig(\"graph1.png\")\n",
    "plt.show()"
   ]
  },
  {
   "cell_type": "markdown",
   "metadata": {
    "_uuid": "e224ab23f275a3a56cdba6a9ccfddbd6a4d3b4fd"
   },
   "source": [
    "\n",
    "### Neural Network"
   ]
  },
  {
   "cell_type": "code",
   "execution_count": 36,
   "metadata": {
    "_uuid": "727b391ad6d86468a96e93dc645ade6e2da4048e"
   },
   "outputs": [
    {
     "name": "stderr",
     "output_type": "stream",
     "text": [
      "Using TensorFlow backend.\n"
     ]
    }
   ],
   "source": [
    "from keras.models import Sequential\n",
    "from keras.layers import Dense"
   ]
  },
  {
   "cell_type": "code",
   "execution_count": 37,
   "metadata": {
    "_uuid": "650f1baa7db466923626c707408319fa29f22d10"
   },
   "outputs": [
    {
     "name": "stdout",
     "output_type": "stream",
     "text": [
      "WARNING:tensorflow:From E:\\anaconda\\anaconda64\\lib\\site-packages\\tensorflow\\python\\ops\\nn_impl.py:180: add_dispatch_support.<locals>.wrapper (from tensorflow.python.ops.array_ops) is deprecated and will be removed in a future version.\n",
      "Instructions for updating:\n",
      "Use tf.where in 2.0, which has the same broadcast rule as np.where\n"
     ]
    }
   ],
   "source": [
    "# https://stats.stackexchange.com/a/136542 helped a lot in avoiding overfitting\n",
    "\n",
    "model = Sequential()\n",
    "model.add(Dense(11,activation='relu',input_dim=4))\n",
    "model.add(Dense(1,activation='sigmoid'))\n",
    "\n",
    "model.compile(loss='binary_crossentropy',optimizer='adam',metrics=['accuracy'])"
   ]
  },
  {
   "cell_type": "code",
   "execution_count": 38,
   "metadata": {
    "_uuid": "dde4e50b5c4c24c73b03133fc7c90bf663fd6d82"
   },
   "outputs": [
    {
     "name": "stdout",
     "output_type": "stream",
     "text": [
      "WARNING:tensorflow:From E:\\anaconda\\anaconda64\\lib\\site-packages\\keras\\backend\\tensorflow_backend.py:422: The name tf.global_variables is deprecated. Please use tf.compat.v1.global_variables instead.\n",
      "\n",
      "Epoch 1/300\n",
      "1752/1752 [==============================] - 1s 416us/step - loss: -35.9211 - accuracy: 0.0000e+00\n",
      "Epoch 2/300\n",
      "1752/1752 [==============================] - 0s 47us/step - loss: -89.9771 - accuracy: 0.0000e+00\n",
      "Epoch 3/300\n",
      "1752/1752 [==============================] - 0s 53us/step - loss: -148.0391 - accuracy: 0.0000e+00\n",
      "Epoch 4/300\n",
      "1752/1752 [==============================] - 0s 64us/step - loss: -208.7779 - accuracy: 0.0000e+00\n",
      "Epoch 5/300\n",
      "1752/1752 [==============================] - 0s 63us/step - loss: -279.8483 - accuracy: 0.0000e+00\n",
      "Epoch 6/300\n",
      "1752/1752 [==============================] - 0s 67us/step - loss: -360.3969 - accuracy: 0.0000e+00\n",
      "Epoch 7/300\n",
      "1752/1752 [==============================] - 0s 70us/step - loss: -450.2665 - accuracy: 0.0000e+00\n",
      "Epoch 8/300\n",
      "1752/1752 [==============================] - 0s 67us/step - loss: -551.4120 - accuracy: 0.0000e+00\n",
      "Epoch 9/300\n",
      "1752/1752 [==============================] - 0s 68us/step - loss: -658.7969 - accuracy: 0.0000e+00\n",
      "Epoch 10/300\n",
      "1752/1752 [==============================] - 0s 68us/step - loss: -777.0992 - accuracy: 0.0000e+00\n",
      "Epoch 11/300\n",
      "1752/1752 [==============================] - 0s 67us/step - loss: -904.6898 - accuracy: 0.0000e+00\n",
      "Epoch 12/300\n",
      "1752/1752 [==============================] - 0s 68us/step - loss: -1039.8627 - accuracy: 0.0000e+00\n",
      "Epoch 13/300\n",
      "1752/1752 [==============================] - 0s 69us/step - loss: -1189.2755 - accuracy: 0.0000e+00\n",
      "Epoch 14/300\n",
      "1752/1752 [==============================] - 0s 66us/step - loss: -1348.2825 - accuracy: 0.0000e+00\n",
      "Epoch 15/300\n",
      "1752/1752 [==============================] - 0s 77us/step - loss: -1523.3840 - accuracy: 0.0000e+00\n",
      "Epoch 16/300\n",
      "1752/1752 [==============================] - 0s 41us/step - loss: -1711.4387 - accuracy: 0.0000e+00\n",
      "Epoch 17/300\n",
      "1752/1752 [==============================] - 0s 53us/step - loss: -1916.8602 - accuracy: 0.0000e+00\n",
      "Epoch 18/300\n",
      "1752/1752 [==============================] - 0s 81us/step - loss: -2132.0550 - accuracy: 0.0000e+00\n",
      "Epoch 19/300\n",
      "1752/1752 [==============================] - 0s 83us/step - loss: -2363.2236 - accuracy: 0.0000e+00\n",
      "Epoch 20/300\n",
      "1752/1752 [==============================] - 0s 84us/step - loss: -2609.4729 - accuracy: 0.0000e+00\n",
      "Epoch 21/300\n",
      "1752/1752 [==============================] - 0s 62us/step - loss: -2870.3048 - accuracy: 0.0000e+00\n",
      "Epoch 22/300\n",
      "1752/1752 [==============================] - 0s 57us/step - loss: -3144.7843 - accuracy: 0.0000e+00\n",
      "Epoch 23/300\n",
      "1752/1752 [==============================] - 0s 69us/step - loss: -3428.6599 - accuracy: 0.0000e+00\n",
      "Epoch 24/300\n",
      "1752/1752 [==============================] - 0s 95us/step - loss: -3730.4755 - accuracy: 0.0000e+00\n",
      "Epoch 25/300\n",
      "1752/1752 [==============================] - 0s 81us/step - loss: -4037.9760 - accuracy: 0.0000e+00\n",
      "Epoch 26/300\n",
      "1752/1752 [==============================] - 0s 62us/step - loss: -4369.3937 - accuracy: 0.0000e+00\n",
      "Epoch 27/300\n",
      "1752/1752 [==============================] - 0s 64us/step - loss: -4707.3332 - accuracy: 0.0000e+00\n",
      "Epoch 28/300\n",
      "1752/1752 [==============================] - 0s 82us/step - loss: -5054.3846 - accuracy: 0.0000e+00\n",
      "Epoch 29/300\n",
      "1752/1752 [==============================] - 0s 109us/step - loss: -5404.9442 - accuracy: 0.0000e+00\n",
      "Epoch 30/300\n",
      "1752/1752 [==============================] - 0s 76us/step - loss: -5782.2166 - accuracy: 0.0000e+00\n",
      "Epoch 31/300\n",
      "1752/1752 [==============================] - 0s 61us/step - loss: -6153.8795 - accuracy: 0.0000e+00\n",
      "Epoch 32/300\n",
      "1752/1752 [==============================] - 0s 44us/step - loss: -6542.6005 - accuracy: 0.0000e+00\n",
      "Epoch 33/300\n",
      "1752/1752 [==============================] - 0s 79us/step - loss: -6934.3891 - accuracy: 0.0000e+00\n",
      "Epoch 34/300\n",
      "1752/1752 [==============================] - 0s 77us/step - loss: -7342.4355 - accuracy: 0.0000e+00\n",
      "Epoch 35/300\n",
      "1752/1752 [==============================] - 0s 61us/step - loss: -7748.1263 - accuracy: 0.0000e+00\n",
      "Epoch 36/300\n",
      "1752/1752 [==============================] - 0s 52us/step - loss: -8170.2426 - accuracy: 0.0000e+00\n",
      "Epoch 37/300\n",
      "1752/1752 [==============================] - 0s 71us/step - loss: -8600.5339 - accuracy: 0.0000e+00\n",
      "Epoch 38/300\n",
      "1752/1752 [==============================] - 0s 71us/step - loss: -9041.4649 - accuracy: 0.0000e+00\n",
      "Epoch 39/300\n",
      "1752/1752 [==============================] - 0s 89us/step - loss: -9479.9890 - accuracy: 0.0000e+00\n",
      "Epoch 40/300\n",
      "1752/1752 [==============================] - 0s 76us/step - loss: -9940.6522 - accuracy: 0.0000e+00\n",
      "Epoch 41/300\n",
      "1752/1752 [==============================] - 0s 55us/step - loss: -10407.0802 - accuracy: 0.0000e+00\n",
      "Epoch 42/300\n",
      "1752/1752 [==============================] - 0s 73us/step - loss: -10873.6342 - accuracy: 0.0000e+00\n",
      "Epoch 43/300\n",
      "1752/1752 [==============================] - 0s 79us/step - loss: -11356.4497 - accuracy: 0.0000e+00\n",
      "Epoch 44/300\n",
      "1752/1752 [==============================] - 0s 92us/step - loss: -11843.0610 - accuracy: 0.0000e+00\n",
      "Epoch 45/300\n",
      "1752/1752 [==============================] - 0s 81us/step - loss: -12332.7041 - accuracy: 0.0000e+00\n",
      "Epoch 46/300\n",
      "1752/1752 [==============================] - 0s 64us/step - loss: -12833.9339 - accuracy: 0.0000e+00\n",
      "Epoch 47/300\n",
      "1752/1752 [==============================] - 0s 46us/step - loss: -13344.9821 - accuracy: 0.0000e+00\n",
      "Epoch 48/300\n",
      "1752/1752 [==============================] - 0s 62us/step - loss: -13865.9472 - accuracy: 0.0000e+00\n",
      "Epoch 49/300\n",
      "1752/1752 [==============================] - 0s 57us/step - loss: -14401.8878 - accuracy: 0.0000e+00\n",
      "Epoch 50/300\n",
      "1752/1752 [==============================] - 0s 80us/step - loss: -14932.2337 - accuracy: 0.0000e+00\n",
      "Epoch 51/300\n",
      "1752/1752 [==============================] - 0s 87us/step - loss: -15460.1335 - accuracy: 0.0000e+00\n",
      "Epoch 52/300\n",
      "1752/1752 [==============================] - 0s 52us/step - loss: -16018.9197 - accuracy: 0.0000e+00\n",
      "Epoch 53/300\n",
      "1752/1752 [==============================] - 0s 65us/step - loss: -16573.1314 - accuracy: 0.0000e+00\n",
      "Epoch 54/300\n",
      "1752/1752 [==============================] - 0s 49us/step - loss: -17134.7861 - accuracy: 0.0000e+00\n",
      "Epoch 55/300\n",
      "1752/1752 [==============================] - 0s 48us/step - loss: -17716.6490 - accuracy: 0.0000e+00\n",
      "Epoch 56/300\n",
      "1752/1752 [==============================] - 0s 59us/step - loss: -18290.2230 - accuracy: 0.0000e+00\n",
      "Epoch 57/300\n",
      "1752/1752 [==============================] - 0s 63us/step - loss: -18878.1308 - accuracy: 0.0000e+00\n",
      "Epoch 58/300\n",
      "1752/1752 [==============================] - 0s 66us/step - loss: -19479.2013 - accuracy: 0.0000e+00\n",
      "Epoch 59/300\n",
      "1752/1752 [==============================] - 0s 68us/step - loss: -20090.6786 - accuracy: 0.0000e+00\n",
      "Epoch 60/300\n",
      "1752/1752 [==============================] - 0s 67us/step - loss: -20704.5261 - accuracy: 0.0000e+00\n",
      "Epoch 61/300\n",
      "1752/1752 [==============================] - 0s 61us/step - loss: -21323.4407 - accuracy: 0.0000e+00\n",
      "Epoch 62/300\n",
      "1752/1752 [==============================] - 0s 62us/step - loss: -21965.0070 - accuracy: 0.0000e+00\n",
      "Epoch 63/300\n",
      "1752/1752 [==============================] - 0s 59us/step - loss: -22590.3778 - accuracy: 0.0000e+00\n",
      "Epoch 64/300\n",
      "1752/1752 [==============================] - 0s 82us/step - loss: -23238.3051 - accuracy: 0.0000e+00\n",
      "Epoch 65/300\n",
      "1752/1752 [==============================] - 0s 78us/step - loss: -23886.2203 - accuracy: 0.0000e+00\n",
      "Epoch 66/300\n",
      "1752/1752 [==============================] - 0s 64us/step - loss: -24544.1560 - accuracy: 0.0000e+00\n",
      "Epoch 67/300\n",
      "1752/1752 [==============================] - 0s 79us/step - loss: -25203.0273 - accuracy: 0.0000e+00\n",
      "Epoch 68/300\n",
      "1752/1752 [==============================] - 0s 59us/step - loss: -25879.2927 - accuracy: 0.0000e+00\n",
      "Epoch 69/300\n",
      "1752/1752 [==============================] - 0s 54us/step - loss: -26551.1388 - accuracy: 0.0000e+00\n",
      "Epoch 70/300\n",
      "1752/1752 [==============================] - 0s 71us/step - loss: -27245.6304 - accuracy: 0.0000e+00\n",
      "Epoch 71/300\n"
     ]
    },
    {
     "name": "stdout",
     "output_type": "stream",
     "text": [
      "1752/1752 [==============================] - 0s 75us/step - loss: -27934.5718 - accuracy: 0.0000e+00\n",
      "Epoch 72/300\n",
      "1752/1752 [==============================] - 0s 73us/step - loss: -28633.5927 - accuracy: 0.0000e+00\n",
      "Epoch 73/300\n",
      "1752/1752 [==============================] - 0s 85us/step - loss: -29319.5014 - accuracy: 0.0000e+00\n",
      "Epoch 74/300\n",
      "1752/1752 [==============================] - 0s 59us/step - loss: -30048.7834 - accuracy: 0.0000e+00\n",
      "Epoch 75/300\n",
      "1752/1752 [==============================] - 0s 53us/step - loss: -30762.9611 - accuracy: 0.0000e+00\n",
      "Epoch 76/300\n",
      "1752/1752 [==============================] - 0s 60us/step - loss: -31493.8785 - accuracy: 0.0000e+00\n",
      "Epoch 77/300\n",
      "1752/1752 [==============================] - 0s 63us/step - loss: -32211.9796 - accuracy: 0.0000e+00\n",
      "Epoch 78/300\n",
      "1752/1752 [==============================] - 0s 64us/step - loss: -32944.9093 - accuracy: 0.0000e+00\n",
      "Epoch 79/300\n",
      "1752/1752 [==============================] - 0s 80us/step - loss: -33675.1366 - accuracy: 0.0000e+00\n",
      "Epoch 80/300\n",
      "1752/1752 [==============================] - 0s 71us/step - loss: -34400.5855 - accuracy: 0.0000e+00\n",
      "Epoch 81/300\n",
      "1752/1752 [==============================] - 0s 66us/step - loss: -35162.7486 - accuracy: 0.0000e+00\n",
      "Epoch 82/300\n",
      "1752/1752 [==============================] - 0s 65us/step - loss: -35912.3936 - accuracy: 0.0000e+00\n",
      "Epoch 83/300\n",
      "1752/1752 [==============================] - 0s 78us/step - loss: -36673.3818 - accuracy: 0.0000e+00\n",
      "Epoch 84/300\n",
      "1752/1752 [==============================] - 0s 81us/step - loss: -37441.4720 - accuracy: 0.0000e+00\n",
      "Epoch 85/300\n",
      "1752/1752 [==============================] - 0s 70us/step - loss: -38204.1332 - accuracy: 0.0000e+00\n",
      "Epoch 86/300\n",
      "1752/1752 [==============================] - 0s 69us/step - loss: -39012.9065 - accuracy: 0.0000e+00\n",
      "Epoch 87/300\n",
      "1752/1752 [==============================] - 0s 84us/step - loss: -39786.3147 - accuracy: 0.0000e+00\n",
      "Epoch 88/300\n",
      "1752/1752 [==============================] - 0s 52us/step - loss: -40585.1209 - accuracy: 0.0000e+00\n",
      "Epoch 89/300\n",
      "1752/1752 [==============================] - 0s 69us/step - loss: -41405.8753 - accuracy: 0.0000e+00\n",
      "Epoch 90/300\n",
      "1752/1752 [==============================] - 0s 62us/step - loss: -42209.7914 - accuracy: 0.0000e+00\n",
      "Epoch 91/300\n",
      "1752/1752 [==============================] - 0s 67us/step - loss: -43011.5228 - accuracy: 0.0000e+00\n",
      "Epoch 92/300\n",
      "1752/1752 [==============================] - 0s 66us/step - loss: -43846.0060 - accuracy: 0.0000e+00\n",
      "Epoch 93/300\n",
      "1752/1752 [==============================] - 0s 62us/step - loss: -44672.3912 - accuracy: 0.0000e+00\n",
      "Epoch 94/300\n",
      "1752/1752 [==============================] - 0s 71us/step - loss: -45498.3687 - accuracy: 0.0000e+00\n",
      "Epoch 95/300\n",
      "1752/1752 [==============================] - 0s 64us/step - loss: -46358.0025 - accuracy: 0.0000e+00\n",
      "Epoch 96/300\n",
      "1752/1752 [==============================] - 0s 62us/step - loss: -47205.7671 - accuracy: 0.0000e+00\n",
      "Epoch 97/300\n",
      "1752/1752 [==============================] - 0s 62us/step - loss: -48083.2486 - accuracy: 0.0000e+00\n",
      "Epoch 98/300\n",
      "1752/1752 [==============================] - 0s 58us/step - loss: -48943.2399 - accuracy: 0.0000e+00\n",
      "Epoch 99/300\n",
      "1752/1752 [==============================] - 0s 59us/step - loss: -49825.8679 - accuracy: 0.0000e+00\n",
      "Epoch 100/300\n",
      "1752/1752 [==============================] - 0s 58us/step - loss: -50716.3009 - accuracy: 0.0000e+00\n",
      "Epoch 101/300\n",
      "1752/1752 [==============================] - 0s 58us/step - loss: -51609.2761 - accuracy: 0.0000e+00\n",
      "Epoch 102/300\n",
      "1752/1752 [==============================] - 0s 59us/step - loss: -52510.8048 - accuracy: 0.0000e+00\n",
      "Epoch 103/300\n",
      "1752/1752 [==============================] - 0s 58us/step - loss: -53407.6018 - accuracy: 0.0000e+00\n",
      "Epoch 104/300\n",
      "1752/1752 [==============================] - 0s 58us/step - loss: -54326.2580 - accuracy: 0.0000e+00\n",
      "Epoch 105/300\n",
      "1752/1752 [==============================] - 0s 61us/step - loss: -55248.1006 - accuracy: 0.0000e+00\n",
      "Epoch 106/300\n",
      "1752/1752 [==============================] - 0s 59us/step - loss: -56171.8151 - accuracy: 0.0000e+00\n",
      "Epoch 107/300\n",
      "1752/1752 [==============================] - 0s 61us/step - loss: -57101.8543 - accuracy: 0.0000e+00\n",
      "Epoch 108/300\n",
      "1752/1752 [==============================] - 0s 49us/step - loss: -58040.3171 - accuracy: 0.0000e+00\n",
      "Epoch 109/300\n",
      "1752/1752 [==============================] - 0s 41us/step - loss: -58990.7627 - accuracy: 0.0000e+00\n",
      "Epoch 110/300\n",
      "1752/1752 [==============================] - 0s 59us/step - loss: -59933.4676 - accuracy: 0.0000e+00\n",
      "Epoch 111/300\n",
      "1752/1752 [==============================] - 0s 60us/step - loss: -60902.6447 - accuracy: 0.0000e+00\n",
      "Epoch 112/300\n",
      "1752/1752 [==============================] - 0s 57us/step - loss: -61867.2938 - accuracy: 0.0000e+00\n",
      "Epoch 113/300\n",
      "1752/1752 [==============================] - 0s 57us/step - loss: -62832.8833 - accuracy: 0.0000e+00\n",
      "Epoch 114/300\n",
      "1752/1752 [==============================] - 0s 59us/step - loss: -63823.7168 - accuracy: 0.0000e+00\n",
      "Epoch 115/300\n",
      "1752/1752 [==============================] - 0s 58us/step - loss: -64795.8241 - accuracy: 0.0000e+00\n",
      "Epoch 116/300\n",
      "1752/1752 [==============================] - 0s 57us/step - loss: -65783.3759 - accuracy: 0.0000e+00\n",
      "Epoch 117/300\n",
      "1752/1752 [==============================] - 0s 59us/step - loss: -66792.1932 - accuracy: 0.0000e+00\n",
      "Epoch 118/300\n",
      "1752/1752 [==============================] - 0s 57us/step - loss: -67765.0968 - accuracy: 0.0000e+00\n",
      "Epoch 119/300\n",
      "1752/1752 [==============================] - 0s 56us/step - loss: -68781.6758 - accuracy: 0.0000e+00\n",
      "Epoch 120/300\n",
      "1752/1752 [==============================] - 0s 58us/step - loss: -69771.6238 - accuracy: 0.0000e+00\n",
      "Epoch 121/300\n",
      "1752/1752 [==============================] - 0s 61us/step - loss: -70796.6124 - accuracy: 0.0000e+00\n",
      "Epoch 122/300\n",
      "1752/1752 [==============================] - 0s 71us/step - loss: -71825.6813 - accuracy: 0.0000e+00\n",
      "Epoch 123/300\n",
      "1752/1752 [==============================] - 0s 72us/step - loss: -72847.1710 - accuracy: 0.0000e+00\n",
      "Epoch 124/300\n",
      "1752/1752 [==============================] - 0s 63us/step - loss: -73885.0622 - accuracy: 0.0000e+00\n",
      "Epoch 125/300\n",
      "1752/1752 [==============================] - 0s 62us/step - loss: -74935.7752 - accuracy: 0.0000e+00\n",
      "Epoch 126/300\n",
      "1752/1752 [==============================] - 0s 58us/step - loss: -75984.9417 - accuracy: 0.0000e+00\n",
      "Epoch 127/300\n",
      "1752/1752 [==============================] - 0s 58us/step - loss: -77034.8866 - accuracy: 0.0000e+00\n",
      "Epoch 128/300\n",
      "1752/1752 [==============================] - 0s 57us/step - loss: -78092.6427 - accuracy: 0.0000e+00\n",
      "Epoch 129/300\n",
      "1752/1752 [==============================] - 0s 59us/step - loss: -79161.8177 - accuracy: 0.0000e+00\n",
      "Epoch 130/300\n",
      "1752/1752 [==============================] - 0s 57us/step - loss: -80241.3770 - accuracy: 0.0000e+00\n",
      "Epoch 131/300\n",
      "1752/1752 [==============================] - 0s 59us/step - loss: -81318.0071 - accuracy: 0.0000e+00\n",
      "Epoch 132/300\n",
      "1752/1752 [==============================] - 0s 56us/step - loss: -82395.6653 - accuracy: 0.0000e+00\n",
      "Epoch 133/300\n",
      "1752/1752 [==============================] - 0s 56us/step - loss: -83490.3276 - accuracy: 0.0000e+00\n",
      "Epoch 134/300\n",
      "1752/1752 [==============================] - 0s 66us/step - loss: -84593.6835 - accuracy: 0.0000e+00\n",
      "Epoch 135/300\n",
      "1752/1752 [==============================] - 0s 71us/step - loss: -85687.0021 - accuracy: 0.0000e+00\n",
      "Epoch 136/300\n",
      "1752/1752 [==============================] - 0s 68us/step - loss: -86799.6439 - accuracy: 0.0000e+00\n",
      "Epoch 137/300\n",
      "1752/1752 [==============================] - 0s 67us/step - loss: -87917.4297 - accuracy: 0.0000e+00\n",
      "Epoch 138/300\n",
      "1752/1752 [==============================] - 0s 60us/step - loss: -89024.7298 - accuracy: 0.0000e+00\n",
      "Epoch 139/300\n",
      "1752/1752 [==============================] - 0s 59us/step - loss: -90161.2039 - accuracy: 0.0000e+00\n",
      "Epoch 140/300\n",
      "1752/1752 [==============================] - 0s 57us/step - loss: -91270.5879 - accuracy: 0.0000e+00\n",
      "Epoch 141/300\n",
      "1752/1752 [==============================] - 0s 56us/step - loss: -92430.0091 - accuracy: 0.0000e+00\n",
      "Epoch 142/300\n"
     ]
    },
    {
     "name": "stdout",
     "output_type": "stream",
     "text": [
      "1752/1752 [==============================] - 0s 63us/step - loss: -93576.3100 - accuracy: 0.0000e+00\n",
      "Epoch 143/300\n",
      "1752/1752 [==============================] - 0s 60us/step - loss: -94741.7047 - accuracy: 0.0000e+00\n",
      "Epoch 144/300\n",
      "1752/1752 [==============================] - 0s 59us/step - loss: -95858.9956 - accuracy: 0.0000e+00\n",
      "Epoch 145/300\n",
      "1752/1752 [==============================] - 0s 57us/step - loss: -97047.3244 - accuracy: 0.0000e+00\n",
      "Epoch 146/300\n",
      "1752/1752 [==============================] - 0s 58us/step - loss: -98202.4157 - accuracy: 0.0000e+00\n",
      "Epoch 147/300\n",
      "1752/1752 [==============================] - 0s 59us/step - loss: -99364.5617 - accuracy: 0.0000e+00\n",
      "Epoch 148/300\n",
      "1752/1752 [==============================] - 0s 55us/step - loss: -100566.9940 - accuracy: 0.0000e+00\n",
      "Epoch 149/300\n",
      "1752/1752 [==============================] - 0s 55us/step - loss: -101706.9112 - accuracy: 0.0000e+00\n",
      "Epoch 150/300\n",
      "1752/1752 [==============================] - 0s 56us/step - loss: -102942.5725 - accuracy: 0.0000e+00\n",
      "Epoch 151/300\n",
      "1752/1752 [==============================] - 0s 56us/step - loss: -104106.7205 - accuracy: 0.0000e+00\n",
      "Epoch 152/300\n",
      "1752/1752 [==============================] - 0s 54us/step - loss: -105332.1329 - accuracy: 0.0000e+00\n",
      "Epoch 153/300\n",
      "1752/1752 [==============================] - 0s 58us/step - loss: -106532.8495 - accuracy: 0.0000e+00\n",
      "Epoch 154/300\n",
      "1752/1752 [==============================] - 0s 57us/step - loss: -107738.4345 - accuracy: 0.0000e+00\n",
      "Epoch 155/300\n",
      "1752/1752 [==============================] - 0s 57us/step - loss: -108975.8863 - accuracy: 0.0000e+00\n",
      "Epoch 156/300\n",
      "1752/1752 [==============================] - 0s 56us/step - loss: -110205.1002 - accuracy: 0.0000e+00\n",
      "Epoch 157/300\n",
      "1752/1752 [==============================] - 0s 57us/step - loss: -111396.0100 - accuracy: 0.0000e+00\n",
      "Epoch 158/300\n",
      "1752/1752 [==============================] - 0s 56us/step - loss: -112643.0294 - accuracy: 0.0000e+00\n",
      "Epoch 159/300\n",
      "1752/1752 [==============================] - 0s 56us/step - loss: -113869.5367 - accuracy: 0.0000e+00\n",
      "Epoch 160/300\n",
      "1752/1752 [==============================] - 0s 57us/step - loss: -115082.6817 - accuracy: 0.0000e+00\n",
      "Epoch 161/300\n",
      "1752/1752 [==============================] - 0s 56us/step - loss: -116337.0463 - accuracy: 0.0000e+00\n",
      "Epoch 162/300\n",
      "1752/1752 [==============================] - 0s 52us/step - loss: -117567.0469 - accuracy: 0.0000e+00\n",
      "Epoch 163/300\n",
      "1752/1752 [==============================] - 0s 48us/step - loss: -118834.0640 - accuracy: 0.0000e+00\n",
      "Epoch 164/300\n",
      "1752/1752 [==============================] - 0s 55us/step - loss: -120072.3911 - accuracy: 0.0000e+00\n",
      "Epoch 165/300\n",
      "1752/1752 [==============================] - 0s 53us/step - loss: -121370.2187 - accuracy: 0.0000e+00\n",
      "Epoch 166/300\n",
      "1752/1752 [==============================] - 0s 53us/step - loss: -122614.0239 - accuracy: 0.0000e+00\n",
      "Epoch 167/300\n",
      "1752/1752 [==============================] - 0s 55us/step - loss: -123908.5097 - accuracy: 0.0000e+00\n",
      "Epoch 168/300\n",
      "1752/1752 [==============================] - 0s 55us/step - loss: -125176.4736 - accuracy: 0.0000e+00\n",
      "Epoch 169/300\n",
      "1752/1752 [==============================] - 0s 55us/step - loss: -126485.7894 - accuracy: 0.0000e+00\n",
      "Epoch 170/300\n",
      "1752/1752 [==============================] - 0s 55us/step - loss: -127766.4377 - accuracy: 0.0000e+00\n",
      "Epoch 171/300\n",
      "1752/1752 [==============================] - 0s 53us/step - loss: -129075.4175 - accuracy: 0.0000e+00\n",
      "Epoch 172/300\n",
      "1752/1752 [==============================] - 0s 67us/step - loss: -130398.2588 - accuracy: 0.0000e+00\n",
      "Epoch 173/300\n",
      "1752/1752 [==============================] - 0s 68us/step - loss: -131708.5475 - accuracy: 0.0000e+00\n",
      "Epoch 174/300\n",
      "1752/1752 [==============================] - 0s 51us/step - loss: -133064.5388 - accuracy: 0.0000e+00\n",
      "Epoch 175/300\n",
      "1752/1752 [==============================] - 0s 55us/step - loss: -134395.4089 - accuracy: 0.0000e+00\n",
      "Epoch 176/300\n",
      "1752/1752 [==============================] - 0s 59us/step - loss: -135736.7380 - accuracy: 0.0000e+00\n",
      "Epoch 177/300\n",
      "1752/1752 [==============================] - 0s 58us/step - loss: -137096.3342 - accuracy: 0.0000e+00\n",
      "Epoch 178/300\n",
      "1752/1752 [==============================] - 0s 60us/step - loss: -138464.7215 - accuracy: 0.0000e+00\n",
      "Epoch 179/300\n",
      "1752/1752 [==============================] - 0s 57us/step - loss: -139820.9705 - accuracy: 0.0000e+00\n",
      "Epoch 180/300\n",
      "1752/1752 [==============================] - 0s 58us/step - loss: -141196.7738 - accuracy: 0.0000e+00\n",
      "Epoch 181/300\n",
      "1752/1752 [==============================] - 0s 60us/step - loss: -142559.3661 - accuracy: 0.0000e+00\n",
      "Epoch 182/300\n",
      "1752/1752 [==============================] - 0s 59us/step - loss: -143937.4506 - accuracy: 0.0000e+00\n",
      "Epoch 183/300\n",
      "1752/1752 [==============================] - 0s 59us/step - loss: -145339.7319 - accuracy: 0.0000e+00\n",
      "Epoch 184/300\n",
      "1752/1752 [==============================] - 0s 57us/step - loss: -146725.2814 - accuracy: 0.0000e+00\n",
      "Epoch 185/300\n",
      "1752/1752 [==============================] - 0s 57us/step - loss: -148151.3315 - accuracy: 0.0000e+00\n",
      "Epoch 186/300\n",
      "1752/1752 [==============================] - 0s 63us/step - loss: -149558.2425 - accuracy: 0.0000e+00\n",
      "Epoch 187/300\n",
      "1752/1752 [==============================] - 0s 65us/step - loss: -150971.6776 - accuracy: 0.0000e+00\n",
      "Epoch 188/300\n",
      "1752/1752 [==============================] - 0s 64us/step - loss: -152432.4956 - accuracy: 0.0000e+00\n",
      "Epoch 189/300\n",
      "1752/1752 [==============================] - 0s 69us/step - loss: -153870.6407 - accuracy: 0.0000e+00\n",
      "Epoch 190/300\n",
      "1752/1752 [==============================] - 0s 50us/step - loss: -155334.5279 - accuracy: 0.0000e+00\n",
      "Epoch 191/300\n",
      "1752/1752 [==============================] - 0s 67us/step - loss: -156772.5447 - accuracy: 0.0000e+00\n",
      "Epoch 192/300\n",
      "1752/1752 [==============================] - 0s 62us/step - loss: -158253.2577 - accuracy: 0.0000e+00\n",
      "Epoch 193/300\n",
      "1752/1752 [==============================] - 0s 66us/step - loss: -159721.9821 - accuracy: 0.0000e+00\n",
      "Epoch 194/300\n",
      "1752/1752 [==============================] - 0s 71us/step - loss: -161204.2870 - accuracy: 0.0000e+00\n",
      "Epoch 195/300\n",
      "1752/1752 [==============================] - 0s 70us/step - loss: -162706.9500 - accuracy: 0.0000e+00\n",
      "Epoch 196/300\n",
      "1752/1752 [==============================] - 0s 68us/step - loss: -164188.4580 - accuracy: 0.0000e+00\n",
      "Epoch 197/300\n",
      "1752/1752 [==============================] - 0s 71us/step - loss: -165675.5555 - accuracy: 0.0000e+00\n",
      "Epoch 198/300\n",
      "1752/1752 [==============================] - 0s 63us/step - loss: -167168.3213 - accuracy: 0.0000e+00\n",
      "Epoch 199/300\n",
      "1752/1752 [==============================] - 0s 67us/step - loss: -168654.7752 - accuracy: 0.0000e+00\n",
      "Epoch 200/300\n",
      "1752/1752 [==============================] - 0s 64us/step - loss: -170165.8123 - accuracy: 0.0000e+00\n",
      "Epoch 201/300\n",
      "1752/1752 [==============================] - 0s 68us/step - loss: -171678.9711 - accuracy: 0.0000e+00\n",
      "Epoch 202/300\n",
      "1752/1752 [==============================] - 0s 70us/step - loss: -173198.6396 - accuracy: 0.0000e+00\n",
      "Epoch 203/300\n",
      "1752/1752 [==============================] - 0s 62us/step - loss: -174718.6177 - accuracy: 0.0000e+00\n",
      "Epoch 204/300\n",
      "1752/1752 [==============================] - 0s 45us/step - loss: -176264.1067 - accuracy: 0.0000e+00\n",
      "Epoch 205/300\n",
      "1752/1752 [==============================] - 0s 63us/step - loss: -177768.7548 - accuracy: 0.0000e+00\n",
      "Epoch 206/300\n",
      "1752/1752 [==============================] - 0s 63us/step - loss: -179361.7662 - accuracy: 0.0000e+00\n",
      "Epoch 207/300\n",
      "1752/1752 [==============================] - 0s 63us/step - loss: -180904.0250 - accuracy: 0.0000e+00\n",
      "Epoch 208/300\n",
      "1752/1752 [==============================] - 0s 64us/step - loss: -182461.4056 - accuracy: 0.0000e+00\n",
      "Epoch 209/300\n",
      "1752/1752 [==============================] - 0s 60us/step - loss: -184028.3007 - accuracy: 0.0000e+00\n",
      "Epoch 210/300\n",
      "1752/1752 [==============================] - 0s 41us/step - loss: -185628.5900 - accuracy: 0.0000e+00\n",
      "Epoch 211/300\n",
      "1752/1752 [==============================] - 0s 61us/step - loss: -187184.4008 - accuracy: 0.0000e+00\n",
      "Epoch 212/300\n"
     ]
    },
    {
     "name": "stdout",
     "output_type": "stream",
     "text": [
      "1752/1752 [==============================] - 0s 60us/step - loss: -188788.8985 - accuracy: 0.0000e+00\n",
      "Epoch 213/300\n",
      "1752/1752 [==============================] - 0s 64us/step - loss: -190362.8890 - accuracy: 0.0000e+00\n",
      "Epoch 214/300\n",
      "1752/1752 [==============================] - 0s 65us/step - loss: -191969.0198 - accuracy: 0.0000e+00\n",
      "Epoch 215/300\n",
      "1752/1752 [==============================] - 0s 59us/step - loss: -193564.6347 - accuracy: 0.0000e+00\n",
      "Epoch 216/300\n",
      "1752/1752 [==============================] - 0s 58us/step - loss: -195197.9432 - accuracy: 0.0000e+00\n",
      "Epoch 217/300\n",
      "1752/1752 [==============================] - 0s 57us/step - loss: -196788.3748 - accuracy: 0.0000e+00\n",
      "Epoch 218/300\n",
      "1752/1752 [==============================] - 0s 59us/step - loss: -198418.4932 - accuracy: 0.0000e+00\n",
      "Epoch 219/300\n",
      "1752/1752 [==============================] - 0s 59us/step - loss: -200029.5570 - accuracy: 0.0000e+00\n",
      "Epoch 220/300\n",
      "1752/1752 [==============================] - 0s 59us/step - loss: -201657.7467 - accuracy: 0.0000e+00\n",
      "Epoch 221/300\n",
      "1752/1752 [==============================] - 0s 72us/step - loss: -203265.9934 - accuracy: 0.0000e+00\n",
      "Epoch 222/300\n",
      "1752/1752 [==============================] - 0s 60us/step - loss: -204924.5810 - accuracy: 0.0000e+00\n",
      "Epoch 223/300\n",
      "1752/1752 [==============================] - 0s 66us/step - loss: -206530.7509 - accuracy: 0.0000e+00\n",
      "Epoch 224/300\n",
      "1752/1752 [==============================] - 0s 59us/step - loss: -208182.9356 - accuracy: 0.0000e+00\n",
      "Epoch 225/300\n",
      "1752/1752 [==============================] - 0s 60us/step - loss: -209843.5535 - accuracy: 0.0000e+00\n",
      "Epoch 226/300\n",
      "1752/1752 [==============================] - 0s 63us/step - loss: -211490.3177 - accuracy: 0.0000e+00\n",
      "Epoch 227/300\n",
      "1752/1752 [==============================] - 0s 59us/step - loss: -213136.6892 - accuracy: 0.0000e+00\n",
      "Epoch 228/300\n",
      "1752/1752 [==============================] - 0s 66us/step - loss: -214805.4254 - accuracy: 0.0000e+00\n",
      "Epoch 229/300\n",
      "1752/1752 [==============================] - 0s 75us/step - loss: -216470.2674 - accuracy: 0.0000e+00\n",
      "Epoch 230/300\n",
      "1752/1752 [==============================] - 0s 58us/step - loss: -218138.4150 - accuracy: 0.0000e+00\n",
      "Epoch 231/300\n",
      "1752/1752 [==============================] - 0s 70us/step - loss: -219825.2187 - accuracy: 0.0000e+00\n",
      "Epoch 232/300\n",
      "1752/1752 [==============================] - 0s 67us/step - loss: -221499.2868 - accuracy: 0.0000e+00\n",
      "Epoch 233/300\n",
      "1752/1752 [==============================] - 0s 61us/step - loss: -223189.4734 - accuracy: 0.0000e+00\n",
      "Epoch 234/300\n",
      "1752/1752 [==============================] - 0s 71us/step - loss: -224911.3751 - accuracy: 0.0000e+00\n",
      "Epoch 235/300\n",
      "1752/1752 [==============================] - 0s 70us/step - loss: -226637.7166 - accuracy: 0.0000e+00\n",
      "Epoch 236/300\n",
      "1752/1752 [==============================] - 0s 67us/step - loss: -228313.4145 - accuracy: 0.0000e+00\n",
      "Epoch 237/300\n",
      "1752/1752 [==============================] - 0s 63us/step - loss: -230060.5098 - accuracy: 0.0000e+00\n",
      "Epoch 238/300\n",
      "1752/1752 [==============================] - 0s 59us/step - loss: -231797.4575 - accuracy: 0.0000e+00\n",
      "Epoch 239/300\n",
      "1752/1752 [==============================] - 0s 58us/step - loss: -233507.5219 - accuracy: 0.0000e+00\n",
      "Epoch 240/300\n",
      "1752/1752 [==============================] - 0s 59us/step - loss: -235255.0803 - accuracy: 0.0000e+00\n",
      "Epoch 241/300\n",
      "1752/1752 [==============================] - 0s 57us/step - loss: -236978.9718 - accuracy: 0.0000e+00\n",
      "Epoch 242/300\n",
      "1752/1752 [==============================] - 0s 57us/step - loss: -238743.3786 - accuracy: 0.0000e+00\n",
      "Epoch 243/300\n",
      "1752/1752 [==============================] - 0s 60us/step - loss: -240475.7361 - accuracy: 0.0000e+00\n",
      "Epoch 244/300\n",
      "1752/1752 [==============================] - 0s 57us/step - loss: -242234.2997 - accuracy: 0.0000e+00\n",
      "Epoch 245/300\n",
      "1752/1752 [==============================] - 0s 57us/step - loss: -244021.1694 - accuracy: 0.0000e+00\n",
      "Epoch 246/300\n",
      "1752/1752 [==============================] - 0s 56us/step - loss: -245786.4877 - accuracy: 0.0000e+00\n",
      "Epoch 247/300\n",
      "1752/1752 [==============================] - 0s 59us/step - loss: -247550.5507 - accuracy: 0.0000e+00\n",
      "Epoch 248/300\n",
      "1752/1752 [==============================] - 0s 56us/step - loss: -249376.0631 - accuracy: 0.0000e+00\n",
      "Epoch 249/300\n",
      "1752/1752 [==============================] - 0s 58us/step - loss: -251160.5471 - accuracy: 0.0000e+00\n",
      "Epoch 250/300\n",
      "1752/1752 [==============================] - 0s 52us/step - loss: -252942.5319 - accuracy: 0.0000e+00\n",
      "Epoch 251/300\n",
      "1752/1752 [==============================] - 0s 56us/step - loss: -254739.0515 - accuracy: 0.0000e+00\n",
      "Epoch 252/300\n",
      "1752/1752 [==============================] - 0s 57us/step - loss: -256587.6144 - accuracy: 0.0000e+00\n",
      "Epoch 253/300\n",
      "1752/1752 [==============================] - 0s 55us/step - loss: -258419.5926 - accuracy: 0.0000e+00\n",
      "Epoch 254/300\n",
      "1752/1752 [==============================] - 0s 56us/step - loss: -260224.2003 - accuracy: 0.0000e+00\n",
      "Epoch 255/300\n",
      "1752/1752 [==============================] - 0s 58us/step - loss: -262096.7719 - accuracy: 0.0000e+00\n",
      "Epoch 256/300\n",
      "1752/1752 [==============================] - 0s 57us/step - loss: -263936.3395 - accuracy: 0.0000e+00\n",
      "Epoch 257/300\n",
      "1752/1752 [==============================] - 0s 59us/step - loss: -265802.9345 - accuracy: 0.0000e+00\n",
      "Epoch 258/300\n",
      "1752/1752 [==============================] - 0s 59us/step - loss: -267681.1190 - accuracy: 0.0000e+00\n",
      "Epoch 259/300\n",
      "1752/1752 [==============================] - 0s 57us/step - loss: -269559.4527 - accuracy: 0.0000e+00\n",
      "Epoch 260/300\n",
      "1752/1752 [==============================] - 0s 56us/step - loss: -271424.2653 - accuracy: 0.0000e+00\n",
      "Epoch 261/300\n",
      "1752/1752 [==============================] - 0s 57us/step - loss: -273350.8070 - accuracy: 0.0000e+00\n",
      "Epoch 262/300\n",
      "1752/1752 [==============================] - 0s 59us/step - loss: -275220.0924 - accuracy: 0.0000e+00\n",
      "Epoch 263/300\n",
      "1752/1752 [==============================] - 0s 59us/step - loss: -277124.2274 - accuracy: 0.0000e+00\n",
      "Epoch 264/300\n",
      "1752/1752 [==============================] - 0s 56us/step - loss: -279034.7999 - accuracy: 0.0000e+00\n",
      "Epoch 265/300\n",
      "1752/1752 [==============================] - 0s 60us/step - loss: -280942.7474 - accuracy: 0.0000e+00\n",
      "Epoch 266/300\n",
      "1752/1752 [==============================] - 0s 58us/step - loss: -282825.9212 - accuracy: 0.0000e+00\n",
      "Epoch 267/300\n",
      "1752/1752 [==============================] - 0s 59us/step - loss: -284784.3795 - accuracy: 0.0000e+00\n",
      "Epoch 268/300\n",
      "1752/1752 [==============================] - 0s 60us/step - loss: -286705.4148 - accuracy: 0.0000e+00\n",
      "Epoch 269/300\n",
      "1752/1752 [==============================] - 0s 57us/step - loss: -288641.4257 - accuracy: 0.0000e+00\n",
      "Epoch 270/300\n",
      "1752/1752 [==============================] - 0s 62us/step - loss: -290613.3226 - accuracy: 0.0000e+00\n",
      "Epoch 271/300\n",
      "1752/1752 [==============================] - 0s 71us/step - loss: -292590.3873 - accuracy: 0.0000e+00\n",
      "Epoch 272/300\n",
      "1752/1752 [==============================] - 0s 59us/step - loss: -294532.4117 - accuracy: 0.0000e+00\n",
      "Epoch 273/300\n",
      "1752/1752 [==============================] - 0s 64us/step - loss: -296483.3863 - accuracy: 0.0000e+00\n",
      "Epoch 274/300\n",
      "1752/1752 [==============================] - 0s 50us/step - loss: -298472.6057 - accuracy: 0.0000e+00\n",
      "Epoch 275/300\n",
      "1752/1752 [==============================] - 0s 62us/step - loss: -300459.4934 - accuracy: 0.0000e+00\n",
      "Epoch 276/300\n",
      "1752/1752 [==============================] - 0s 60us/step - loss: -302431.9547 - accuracy: 0.0000e+00\n",
      "Epoch 277/300\n",
      "1752/1752 [==============================] - 0s 57us/step - loss: -304419.4357 - accuracy: 0.0000e+00\n",
      "Epoch 278/300\n",
      "1752/1752 [==============================] - 0s 57us/step - loss: -306393.8103 - accuracy: 0.0000e+00\n",
      "Epoch 279/300\n",
      "1752/1752 [==============================] - 0s 59us/step - loss: -308371.0708 - accuracy: 0.0000e+00\n",
      "Epoch 280/300\n",
      "1752/1752 [==============================] - 0s 60us/step - loss: -310393.2140 - accuracy: 0.0000e+00\n",
      "Epoch 281/300\n",
      "1752/1752 [==============================] - 0s 62us/step - loss: -312370.0502 - accuracy: 0.0000e+00\n",
      "Epoch 282/300\n"
     ]
    },
    {
     "name": "stdout",
     "output_type": "stream",
     "text": [
      "1752/1752 [==============================] - 0s 63us/step - loss: -314353.2754 - accuracy: 0.0000e+00\n",
      "Epoch 283/300\n",
      "1752/1752 [==============================] - 0s 64us/step - loss: -316354.9380 - accuracy: 0.0000e+00\n",
      "Epoch 284/300\n",
      "1752/1752 [==============================] - 0s 67us/step - loss: -318373.4769 - accuracy: 0.0000e+00\n",
      "Epoch 285/300\n",
      "1752/1752 [==============================] - 0s 72us/step - loss: -320401.4060 - accuracy: 0.0000e+00\n",
      "Epoch 286/300\n",
      "1752/1752 [==============================] - 0s 72us/step - loss: -322448.1973 - accuracy: 0.0000e+00\n",
      "Epoch 287/300\n",
      "1752/1752 [==============================] - 0s 73us/step - loss: -324458.3695 - accuracy: 0.0000e+00\n",
      "Epoch 288/300\n",
      "1752/1752 [==============================] - 0s 64us/step - loss: -326511.1834 - accuracy: 0.0000e+00\n",
      "Epoch 289/300\n",
      "1752/1752 [==============================] - 0s 61us/step - loss: -328531.2171 - accuracy: 0.0000e+00\n",
      "Epoch 290/300\n",
      "1752/1752 [==============================] - 0s 59us/step - loss: -330605.6201 - accuracy: 0.0000e+00\n",
      "Epoch 291/300\n",
      "1752/1752 [==============================] - 0s 59us/step - loss: -332640.9876 - accuracy: 0.0000e+00\n",
      "Epoch 292/300\n",
      "1752/1752 [==============================] - 0s 63us/step - loss: -334690.3720 - accuracy: 0.0000e+00\n",
      "Epoch 293/300\n",
      "1752/1752 [==============================] - 0s 63us/step - loss: -336754.9697 - accuracy: 0.0000e+00\n",
      "Epoch 294/300\n",
      "1752/1752 [==============================] - 0s 60us/step - loss: -338846.1961 - accuracy: 0.0000e+00\n",
      "Epoch 295/300\n",
      "1752/1752 [==============================] - 0s 65us/step - loss: -340869.9939 - accuracy: 0.0000e+00\n",
      "Epoch 296/300\n",
      "1752/1752 [==============================] - 0s 65us/step - loss: -342990.2695 - accuracy: 0.0000e+00\n",
      "Epoch 297/300\n",
      "1752/1752 [==============================] - 0s 64us/step - loss: -345074.5863 - accuracy: 0.0000e+00\n",
      "Epoch 298/300\n",
      "1752/1752 [==============================] - 0s 64us/step - loss: -347176.8733 - accuracy: 0.0000e+00\n",
      "Epoch 299/300\n",
      "1752/1752 [==============================] - 0s 64us/step - loss: -349275.0878 - accuracy: 0.0000e+00\n",
      "Epoch 300/300\n",
      "1752/1752 [==============================] - 0s 65us/step - loss: -351392.5462 - accuracy: 0.0000e+00\n"
     ]
    },
    {
     "data": {
      "text/plain": [
       "<keras.callbacks.callbacks.History at 0x23b3f346048>"
      ]
     },
     "execution_count": 38,
     "metadata": {},
     "output_type": "execute_result"
    }
   ],
   "source": [
    "model.fit(X_train,Y_train,epochs=300)"
   ]
  },
  {
   "cell_type": "code",
   "execution_count": 39,
   "metadata": {
    "_uuid": "c844af4f00d40c4cce4c4e5a9a01c9a892e9533d"
   },
   "outputs": [],
   "source": [
    "Y_pred_nn = model.predict(X_test)"
   ]
  },
  {
   "cell_type": "code",
   "execution_count": 40,
   "metadata": {
    "_uuid": "7e95c4946c0103225663862f43f31c41ed5aa2b1"
   },
   "outputs": [
    {
     "data": {
      "text/plain": [
       "(439, 1)"
      ]
     },
     "execution_count": 40,
     "metadata": {},
     "output_type": "execute_result"
    }
   ],
   "source": [
    "Y_pred_nn.shape"
   ]
  },
  {
   "cell_type": "code",
   "execution_count": 41,
   "metadata": {
    "_uuid": "66d9268e3f87b5a98066196eaa39363218a20015"
   },
   "outputs": [],
   "source": [
    "rounded = [round(x[0]) for x in Y_pred_nn]\n",
    "\n",
    "Y_pred_nn = rounded"
   ]
  },
  {
   "cell_type": "code",
   "execution_count": 42,
   "metadata": {
    "_uuid": "888d79632c3191c2d11c1ec3da8dc750c9d95424"
   },
   "outputs": [
    {
     "ename": "ValueError",
     "evalue": "Classification metrics can't handle a mix of binary and continuous targets",
     "output_type": "error",
     "traceback": [
      "\u001b[1;31m---------------------------------------------------------------------------\u001b[0m",
      "\u001b[1;31mValueError\u001b[0m                                Traceback (most recent call last)",
      "\u001b[1;32m<ipython-input-42-1439a67a4556>\u001b[0m in \u001b[0;36m<module>\u001b[1;34m\u001b[0m\n\u001b[1;32m----> 1\u001b[1;33m \u001b[0mscore_nn\u001b[0m \u001b[1;33m=\u001b[0m \u001b[0mround\u001b[0m\u001b[1;33m(\u001b[0m\u001b[0maccuracy_score\u001b[0m\u001b[1;33m(\u001b[0m\u001b[0mY_pred_nn\u001b[0m\u001b[1;33m,\u001b[0m\u001b[0mY_test\u001b[0m\u001b[1;33m)\u001b[0m\u001b[1;33m*\u001b[0m\u001b[1;36m100\u001b[0m\u001b[1;33m,\u001b[0m\u001b[1;36m2\u001b[0m\u001b[1;33m)\u001b[0m\u001b[1;33m\u001b[0m\u001b[1;33m\u001b[0m\u001b[0m\n\u001b[0m\u001b[0;32m      2\u001b[0m \u001b[1;31m#score_nn = model.score()\u001b[0m\u001b[1;33m\u001b[0m\u001b[1;33m\u001b[0m\u001b[1;33m\u001b[0m\u001b[0m\n\u001b[0;32m      3\u001b[0m \u001b[0mprint\u001b[0m\u001b[1;33m(\u001b[0m\u001b[1;34m\"The accuracy score achieved using Neural Network is: \"\u001b[0m\u001b[1;33m+\u001b[0m\u001b[0mstr\u001b[0m\u001b[1;33m(\u001b[0m\u001b[0mscore_nn\u001b[0m\u001b[1;33m)\u001b[0m\u001b[1;33m+\u001b[0m\u001b[1;34m\" %\"\u001b[0m\u001b[1;33m)\u001b[0m\u001b[1;33m\u001b[0m\u001b[1;33m\u001b[0m\u001b[0m\n\u001b[0;32m      4\u001b[0m \u001b[1;33m\u001b[0m\u001b[0m\n\u001b[0;32m      5\u001b[0m \u001b[1;31m#Note: Accuracy of 85% can be achieved on the test set, by setting epochs=2000, and number of nodes = 11.\u001b[0m\u001b[1;33m\u001b[0m\u001b[1;33m\u001b[0m\u001b[1;33m\u001b[0m\u001b[0m\n",
      "\u001b[1;32mE:\\anaconda\\anaconda64\\lib\\site-packages\\sklearn\\metrics\\_classification.py\u001b[0m in \u001b[0;36maccuracy_score\u001b[1;34m(y_true, y_pred, normalize, sample_weight)\u001b[0m\n\u001b[0;32m    183\u001b[0m \u001b[1;33m\u001b[0m\u001b[0m\n\u001b[0;32m    184\u001b[0m     \u001b[1;31m# Compute accuracy for each possible representation\u001b[0m\u001b[1;33m\u001b[0m\u001b[1;33m\u001b[0m\u001b[1;33m\u001b[0m\u001b[0m\n\u001b[1;32m--> 185\u001b[1;33m     \u001b[0my_type\u001b[0m\u001b[1;33m,\u001b[0m \u001b[0my_true\u001b[0m\u001b[1;33m,\u001b[0m \u001b[0my_pred\u001b[0m \u001b[1;33m=\u001b[0m \u001b[0m_check_targets\u001b[0m\u001b[1;33m(\u001b[0m\u001b[0my_true\u001b[0m\u001b[1;33m,\u001b[0m \u001b[0my_pred\u001b[0m\u001b[1;33m)\u001b[0m\u001b[1;33m\u001b[0m\u001b[1;33m\u001b[0m\u001b[0m\n\u001b[0m\u001b[0;32m    186\u001b[0m     \u001b[0mcheck_consistent_length\u001b[0m\u001b[1;33m(\u001b[0m\u001b[0my_true\u001b[0m\u001b[1;33m,\u001b[0m \u001b[0my_pred\u001b[0m\u001b[1;33m,\u001b[0m \u001b[0msample_weight\u001b[0m\u001b[1;33m)\u001b[0m\u001b[1;33m\u001b[0m\u001b[1;33m\u001b[0m\u001b[0m\n\u001b[0;32m    187\u001b[0m     \u001b[1;32mif\u001b[0m \u001b[0my_type\u001b[0m\u001b[1;33m.\u001b[0m\u001b[0mstartswith\u001b[0m\u001b[1;33m(\u001b[0m\u001b[1;34m'multilabel'\u001b[0m\u001b[1;33m)\u001b[0m\u001b[1;33m:\u001b[0m\u001b[1;33m\u001b[0m\u001b[1;33m\u001b[0m\u001b[0m\n",
      "\u001b[1;32mE:\\anaconda\\anaconda64\\lib\\site-packages\\sklearn\\metrics\\_classification.py\u001b[0m in \u001b[0;36m_check_targets\u001b[1;34m(y_true, y_pred)\u001b[0m\n\u001b[0;32m     88\u001b[0m     \u001b[1;32mif\u001b[0m \u001b[0mlen\u001b[0m\u001b[1;33m(\u001b[0m\u001b[0my_type\u001b[0m\u001b[1;33m)\u001b[0m \u001b[1;33m>\u001b[0m \u001b[1;36m1\u001b[0m\u001b[1;33m:\u001b[0m\u001b[1;33m\u001b[0m\u001b[1;33m\u001b[0m\u001b[0m\n\u001b[0;32m     89\u001b[0m         raise ValueError(\"Classification metrics can't handle a mix of {0} \"\n\u001b[1;32m---> 90\u001b[1;33m                          \"and {1} targets\".format(type_true, type_pred))\n\u001b[0m\u001b[0;32m     91\u001b[0m \u001b[1;33m\u001b[0m\u001b[0m\n\u001b[0;32m     92\u001b[0m     \u001b[1;31m# We can't have more than one value on y_type => The set is no more needed\u001b[0m\u001b[1;33m\u001b[0m\u001b[1;33m\u001b[0m\u001b[1;33m\u001b[0m\u001b[0m\n",
      "\u001b[1;31mValueError\u001b[0m: Classification metrics can't handle a mix of binary and continuous targets"
     ]
    }
   ],
   "source": [
    "score_nn = round(accuracy_score(Y_pred_nn,Y_test)*100,2)\n",
    "#score_nn = model.score()\n",
    "print(\"The accuracy score achieved using Neural Network is: \"+str(score_nn)+\" %\")\n",
    "\n",
    "#Note: Accuracy of 85% can be achieved on the test set, by setting epochs=2000, and number of nodes = 11. "
   ]
  },
  {
   "cell_type": "markdown",
   "metadata": {
    "_uuid": "c634cd922d716d350f6db0244772260cc598dec4"
   },
   "source": [
    "## VI. Output final score"
   ]
  },
  {
   "cell_type": "code",
   "execution_count": 43,
   "metadata": {
    "_uuid": "101daa51242624c49bb8b3198d9d2c9f8f1c596e"
   },
   "outputs": [
    {
     "ename": "NameError",
     "evalue": "name 'score_nn' is not defined",
     "output_type": "error",
     "traceback": [
      "\u001b[1;31m---------------------------------------------------------------------------\u001b[0m",
      "\u001b[1;31mNameError\u001b[0m                                 Traceback (most recent call last)",
      "\u001b[1;32m<ipython-input-43-9d480cc2c297>\u001b[0m in \u001b[0;36m<module>\u001b[1;34m\u001b[0m\n\u001b[1;32m----> 1\u001b[1;33m \u001b[0mscores\u001b[0m \u001b[1;33m=\u001b[0m \u001b[1;33m[\u001b[0m\u001b[0mscore_sr\u001b[0m\u001b[1;33m,\u001b[0m\u001b[0mscore_nn\u001b[0m\u001b[1;33m]\u001b[0m\u001b[1;33m\u001b[0m\u001b[1;33m\u001b[0m\u001b[0m\n\u001b[0m\u001b[0;32m      2\u001b[0m \u001b[0malgorithms\u001b[0m \u001b[1;33m=\u001b[0m \u001b[1;33m[\u001b[0m\u001b[1;34m\"Support Vector Regression\"\u001b[0m\u001b[1;33m,\u001b[0m\u001b[1;34m\"Neural Network\"\u001b[0m\u001b[1;33m]\u001b[0m\u001b[1;33m\u001b[0m\u001b[1;33m\u001b[0m\u001b[0m\n\u001b[0;32m      3\u001b[0m \u001b[1;33m\u001b[0m\u001b[0m\n\u001b[0;32m      4\u001b[0m \u001b[1;32mfor\u001b[0m \u001b[0mi\u001b[0m \u001b[1;32min\u001b[0m \u001b[0mrange\u001b[0m\u001b[1;33m(\u001b[0m\u001b[0mlen\u001b[0m\u001b[1;33m(\u001b[0m\u001b[0malgorithms\u001b[0m\u001b[1;33m)\u001b[0m\u001b[1;33m)\u001b[0m\u001b[1;33m:\u001b[0m\u001b[1;33m\u001b[0m\u001b[1;33m\u001b[0m\u001b[0m\n\u001b[0;32m      5\u001b[0m     \u001b[0mprint\u001b[0m\u001b[1;33m(\u001b[0m\u001b[1;34m\"The accuracy score achieved using \"\u001b[0m\u001b[1;33m+\u001b[0m\u001b[0malgorithms\u001b[0m\u001b[1;33m[\u001b[0m\u001b[0mi\u001b[0m\u001b[1;33m]\u001b[0m\u001b[1;33m+\u001b[0m\u001b[1;34m\" is: \"\u001b[0m\u001b[1;33m+\u001b[0m\u001b[0mstr\u001b[0m\u001b[1;33m(\u001b[0m\u001b[0mscores\u001b[0m\u001b[1;33m[\u001b[0m\u001b[0mi\u001b[0m\u001b[1;33m]\u001b[0m\u001b[1;33m)\u001b[0m\u001b[1;33m+\u001b[0m\u001b[1;34m\" %\"\u001b[0m\u001b[1;33m)\u001b[0m\u001b[1;33m\u001b[0m\u001b[1;33m\u001b[0m\u001b[0m\n",
      "\u001b[1;31mNameError\u001b[0m: name 'score_nn' is not defined"
     ]
    }
   ],
   "source": [
    "scores = [score_sr,score_nn]\n",
    "algorithms = [\"Support Vector Regression\",\"Neural Network\"]    \n",
    "\n",
    "for i in range(len(algorithms)):\n",
    "    print(\"The accuracy score achieved using \"+algorithms[i]+\" is: \"+str(scores[i])+\" %\")"
   ]
  },
  {
   "cell_type": "code",
   "execution_count": 44,
   "metadata": {
    "_uuid": "8060c7d426f9f7b64772f37e0a74ededca16838d"
   },
   "outputs": [
    {
     "ename": "NameError",
     "evalue": "name 'algorithms' is not defined",
     "output_type": "error",
     "traceback": [
      "\u001b[1;31m---------------------------------------------------------------------------\u001b[0m",
      "\u001b[1;31mNameError\u001b[0m                                 Traceback (most recent call last)",
      "\u001b[1;32m<ipython-input-44-ab65e036a009>\u001b[0m in \u001b[0;36m<module>\u001b[1;34m\u001b[0m\n\u001b[0;32m      3\u001b[0m \u001b[0mplt\u001b[0m\u001b[1;33m.\u001b[0m\u001b[0mylabel\u001b[0m\u001b[1;33m(\u001b[0m\u001b[1;34m\"Accuracy score\"\u001b[0m\u001b[1;33m)\u001b[0m\u001b[1;33m\u001b[0m\u001b[1;33m\u001b[0m\u001b[0m\n\u001b[0;32m      4\u001b[0m \u001b[1;33m\u001b[0m\u001b[0m\n\u001b[1;32m----> 5\u001b[1;33m \u001b[0msns\u001b[0m\u001b[1;33m.\u001b[0m\u001b[0mbarplot\u001b[0m\u001b[1;33m(\u001b[0m\u001b[0malgorithms\u001b[0m\u001b[1;33m,\u001b[0m\u001b[0mscores\u001b[0m\u001b[1;33m)\u001b[0m\u001b[1;33m\u001b[0m\u001b[1;33m\u001b[0m\u001b[0m\n\u001b[0m",
      "\u001b[1;31mNameError\u001b[0m: name 'algorithms' is not defined"
     ]
    },
    {
     "data": {
      "image/png": "[encoded data removed]",
      "text/plain": [
       "<Figure size 1080x576 with 1 Axes>"
      ]
     },
     "metadata": {},
     "output_type": "display_data"
    }
   ],
   "source": [
    "sns.set(rc={'figure.figsize':(15,8)})\n",
    "plt.xlabel(\"Algorithms\")\n",
    "plt.ylabel(\"Accuracy score\")\n",
    "\n",
    "sns.barplot(algorithms,scores)"
   ]
  },
  {
   "cell_type": "code",
   "execution_count": null,
   "metadata": {},
   "outputs": [],
   "source": [
    "import requests\n",
    "\n",
    "from pprint import pprint\n",
    "\n",
    "API_key = \"7051e573c7f1bc4694955de889854075\"\n",
    "base_url = \"http://api.openweathermap.org/data/2.5/weather?\"\n",
    "\n",
    "city_name = input(\"Enter a city Name : \")\n",
    "Final_url = base_url + \"appid=\" + API_key + \"&q=\" + city_name\n",
    "\n",
    "weather_data = requests.get(Final_url).json()\n",
    "print(\"\\nCurrent Weather Data Of \" + city_name +\":\\n\")\n",
    "pprint(weather_data)"
   ]
  },
  {
   "cell_type": "code",
   "execution_count": null,
   "metadata": {},
   "outputs": [
    {
     "name": "stdout",
     "output_type": "stream",
     "text": [
      "RAINFALL PREDICTION 2020\n",
      "   RANGE   \n",
      " 0   - 0.2  =>   No Rainfall \n",
      " 0.3 - 0.7  =>   Low Rainfall \n",
      " 0.8 - 1.2  =>   Moderate Rainfall \n",
      " 1.3 - 2    =>   Heavy Rainfall \n"
     ]
    }
   ],
   "source": [
    "print('RAINFALL PREDICTION 2020')\n",
    "print('   RANGE   ')\n",
    "\n",
    "\n",
    "print(' 0   - 0.2  =>   No Rainfall ' )\n",
    "print(' 0.3 - 0.7  =>   Low Rainfall ' )\n",
    "print(' 0.8 - 1.2  =>   Moderate Rainfall ' )\n",
    "print(' 1.3 - 2    =>   Heavy Rainfall ' )\n",
    "\n",
    "city = input('Enter city     :')\n",
    "day = input('Enter day      :')\n",
    "   \n",
    "month = input('Enter month    :')\n",
    "    \n",
    "tempAvg = input('Enter temp     :')\n",
    "    \n",
    "humidityAvg = input('Enter humidity :')\n",
    "    \n",
    "out = sr.predict([[int(day),int(month),int(tempAvg),\n",
    "                              int(humidityAvg)]])\n",
    "\n",
    "print(out)\n",
    "if abs(out[0])<0.2:\n",
    "    print(' No Rainfall')\n",
    "elif abs(out[0])<=0.7:\n",
    "    print('Low Rainfall')\n",
    "elif abs(out[0])<=1.2:\n",
    "    print('Moderate Rainfall')\n",
    "else:\n",
    "    print(\"Heavy Rainfall\")\n",
    "    "
   ]
  },
  {
   "cell_type": "markdown",
   "metadata": {},
   "source": [
    " "
   ]
  },
  {
   "cell_type": "code",
   "execution_count": null,
   "metadata": {},
   "outputs": [],
   "source": []
  },
  {
   "cell_type": "code",
   "execution_count": null,
   "metadata": {},
   "outputs": [],
   "source": []
  }
 ],
 "metadata": {
  "anaconda-cloud": {},
  "kernelspec": {
   "display_name": "Python 3",
   "language": "python",
   "name": "python3"
  },
  "language_info": {
   "codemirror_mode": {
    "name": "ipython",
    "version": 3
   },
   "file_extension": ".py",
   "mimetype": "text/x-python",
   "name": "python",
   "nbconvert_exporter": "python",
   "pygments_lexer": "ipython3",
   "version": "3.7.6"
  }
 },
 "nbformat": 4,
 "nbformat_minor": 1
}
